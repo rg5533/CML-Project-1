{
 "cells": [
  {
   "cell_type": "markdown",
   "metadata": {},
   "source": [
    "# CML Assignment - 1"
   ]
  },
  {
   "cell_type": "markdown",
   "metadata": {},
   "source": [
    "## Overview\n"
   ]
  },
  {
   "cell_type": "markdown",
   "metadata": {},
   "source": [
    "### Data Description"
   ]
  },
  {
   "cell_type": "markdown",
   "metadata": {},
   "source": [
    "In our dataser only 15 descriptive features named below are used.\n",
    "\n",
    " 1. ID - Unique Patient number\n",
    " 2. HealthServiceArea - Hospital Location            \n",
    " 3. Gender - Patient Gender               \n",
    " 4. Race   - Patient Race                      \n",
    " 5. TypeOfAdmission   - The manner in which the patient was admitted           \n",
    " 6. CCSProcedureCode  - AHRQ Clinical Classification Software (CCS) ICD-9 Procedure Category Code \n",
    " 7. APRSeverityOfIllnessCode    - Severity of illness\n",
    " 8. PaymentTypology       - Type of payment       \n",
    " 9. BirthWeight      - The neonate birth weight in grams; rounded to nearest 100g.            \n",
    " 10. EmergencyDepartmentIndicator - Emergency Department Indicator( for 045X, it is set to  \"Y\" or else \"N\")\n",
    " 11. AverageCostInCounty          - Average hospitalization Cost In County of the patient\n",
    " 12. AverageChargesInCounty       - Average medical Charges In County of the patient\n",
    " 13. AverageCostInFacility        - Average Cost In Facility\n",
    " 14. AverageChargesInFacility     - Average Charges In Facility\n",
    " 15. AverageIncomeInZipCode       - Average Income In Zip Code\n",
    "\n",
    "\n",
    "Target Feature: Length of Stay\n",
    "\n",
    "The total number of days it took patients to recover from illness/ discharged from hospital.\n",
    "\n",
    "As per assignment requirements we are supposed to predict if the patient is going to stay in the hospital longer than 3 days or not, i.e Class 0 if LengthOfStay < 4 and class 1 otherwise. Since the initial values of the target features ranges from (0-10). We are further going to replace values (0-3) with '0' and values (4-10) with '1' when we explore Target variable.\n",
    "\n",
    "\n",
    "In this project we have tried to implement 3 classification models to predict the Length of Stay(LOS).\n",
    "1. Regression\n",
    "2. Decision Tree\n",
    "3. Random Forest\n",
    "\n",
    "\n",
    "\n"
   ]
  },
  {
   "cell_type": "markdown",
   "metadata": {},
   "source": [
    "**I have done the preprocessing of the seen data and the unseen data together to avoid redoing preprocessing tasks again.**"
   ]
  },
  {
   "cell_type": "markdown",
   "metadata": {},
   "source": [
    "### Importing Required Libraries"
   ]
  },
  {
   "cell_type": "code",
   "execution_count": 1,
   "metadata": {},
   "outputs": [],
   "source": [
    "import pandas as pd\n",
    "import numpy as np\n",
    "import warnings\n",
    "warnings.filterwarnings(\"ignore\")\n",
    "import io\n",
    "import requests\n",
    "import os, ssl\n",
    "import matplotlib.pyplot as plt\n",
    "import seaborn as sns\n"
   ]
  },
  {
   "cell_type": "code",
   "execution_count": 2,
   "metadata": {},
   "outputs": [],
   "source": [
    "DischargeFrame = pd.read_csv('./Data/train_data.csv', delimiter=',')\n",
    "Test_Data = pd.read_csv('./Data/test_data.csv', delimiter=',') ## Loading Test Dataset"
   ]
  },
  {
   "cell_type": "markdown",
   "metadata": {},
   "source": [
    "Loading the dataset and storing it in the Dataframe 'DischargeFrame'."
   ]
  },
  {
   "cell_type": "code",
   "execution_count": 3,
   "metadata": {},
   "outputs": [
    {
     "data": {
      "text/html": [
       "<div>\n",
       "<style scoped>\n",
       "    .dataframe tbody tr th:only-of-type {\n",
       "        vertical-align: middle;\n",
       "    }\n",
       "\n",
       "    .dataframe tbody tr th {\n",
       "        vertical-align: top;\n",
       "    }\n",
       "\n",
       "    .dataframe thead th {\n",
       "        text-align: right;\n",
       "    }\n",
       "</style>\n",
       "<table border=\"1\" class=\"dataframe\">\n",
       "  <thead>\n",
       "    <tr style=\"text-align: right;\">\n",
       "      <th></th>\n",
       "      <th>ID</th>\n",
       "      <th>HealthServiceArea</th>\n",
       "      <th>Gender</th>\n",
       "      <th>Race</th>\n",
       "      <th>TypeOfAdmission</th>\n",
       "      <th>CCSProcedureCode</th>\n",
       "      <th>APRSeverityOfIllnessCode</th>\n",
       "      <th>PaymentTypology</th>\n",
       "      <th>BirthWeight</th>\n",
       "      <th>EmergencyDepartmentIndicator</th>\n",
       "      <th>AverageCostInCounty</th>\n",
       "      <th>AverageChargesInCounty</th>\n",
       "      <th>AverageCostInFacility</th>\n",
       "      <th>AverageChargesInFacility</th>\n",
       "      <th>AverageIncomeInZipCode</th>\n",
       "      <th>LengthOfStay</th>\n",
       "    </tr>\n",
       "  </thead>\n",
       "  <tbody>\n",
       "    <tr>\n",
       "      <th>0</th>\n",
       "      <td>1</td>\n",
       "      <td>New York City</td>\n",
       "      <td>F</td>\n",
       "      <td>Other Race</td>\n",
       "      <td>Newborn</td>\n",
       "      <td>228</td>\n",
       "      <td>1</td>\n",
       "      <td>Medicaid</td>\n",
       "      <td>3700</td>\n",
       "      <td>N</td>\n",
       "      <td>2611</td>\n",
       "      <td>9227</td>\n",
       "      <td>1751</td>\n",
       "      <td>8951</td>\n",
       "      <td>45</td>\n",
       "      <td>1</td>\n",
       "    </tr>\n",
       "    <tr>\n",
       "      <th>1</th>\n",
       "      <td>2</td>\n",
       "      <td>New York City</td>\n",
       "      <td>M</td>\n",
       "      <td>Black/African American</td>\n",
       "      <td>Newborn</td>\n",
       "      <td>228</td>\n",
       "      <td>1</td>\n",
       "      <td>Medicaid</td>\n",
       "      <td>2900</td>\n",
       "      <td>N</td>\n",
       "      <td>3242</td>\n",
       "      <td>8966</td>\n",
       "      <td>3338</td>\n",
       "      <td>6409</td>\n",
       "      <td>34</td>\n",
       "      <td>1</td>\n",
       "    </tr>\n",
       "    <tr>\n",
       "      <th>2</th>\n",
       "      <td>3</td>\n",
       "      <td>New York City</td>\n",
       "      <td>M</td>\n",
       "      <td>Other Race</td>\n",
       "      <td>Newborn</td>\n",
       "      <td>220</td>\n",
       "      <td>1</td>\n",
       "      <td>Private Health Insurance</td>\n",
       "      <td>3200</td>\n",
       "      <td>N</td>\n",
       "      <td>3155</td>\n",
       "      <td>11381</td>\n",
       "      <td>4980</td>\n",
       "      <td>9323</td>\n",
       "      <td>45</td>\n",
       "      <td>1</td>\n",
       "    </tr>\n",
       "    <tr>\n",
       "      <th>3</th>\n",
       "      <td>4</td>\n",
       "      <td>New York City</td>\n",
       "      <td>F</td>\n",
       "      <td>Other Race</td>\n",
       "      <td>Newborn</td>\n",
       "      <td>0</td>\n",
       "      <td>1</td>\n",
       "      <td>Private Health Insurance</td>\n",
       "      <td>3300</td>\n",
       "      <td>N</td>\n",
       "      <td>3155</td>\n",
       "      <td>11381</td>\n",
       "      <td>5826</td>\n",
       "      <td>15680</td>\n",
       "      <td>59</td>\n",
       "      <td>1</td>\n",
       "    </tr>\n",
       "    <tr>\n",
       "      <th>4</th>\n",
       "      <td>5</td>\n",
       "      <td>New York City</td>\n",
       "      <td>F</td>\n",
       "      <td>Other Race</td>\n",
       "      <td>Newborn</td>\n",
       "      <td>228</td>\n",
       "      <td>1</td>\n",
       "      <td>Medicaid</td>\n",
       "      <td>2600</td>\n",
       "      <td>N</td>\n",
       "      <td>2611</td>\n",
       "      <td>9227</td>\n",
       "      <td>6000</td>\n",
       "      <td>14344</td>\n",
       "      <td>59</td>\n",
       "      <td>1</td>\n",
       "    </tr>\n",
       "  </tbody>\n",
       "</table>\n",
       "</div>"
      ],
      "text/plain": [
       "   ID HealthServiceArea Gender                    Race TypeOfAdmission  \\\n",
       "0   1     New York City      F              Other Race         Newborn   \n",
       "1   2     New York City      M  Black/African American         Newborn   \n",
       "2   3     New York City      M              Other Race         Newborn   \n",
       "3   4     New York City      F              Other Race         Newborn   \n",
       "4   5     New York City      F              Other Race         Newborn   \n",
       "\n",
       "   CCSProcedureCode  APRSeverityOfIllnessCode           PaymentTypology  \\\n",
       "0               228                         1                  Medicaid   \n",
       "1               228                         1                  Medicaid   \n",
       "2               220                         1  Private Health Insurance   \n",
       "3                 0                         1  Private Health Insurance   \n",
       "4               228                         1                  Medicaid   \n",
       "\n",
       "   BirthWeight EmergencyDepartmentIndicator  AverageCostInCounty  \\\n",
       "0         3700                            N                 2611   \n",
       "1         2900                            N                 3242   \n",
       "2         3200                            N                 3155   \n",
       "3         3300                            N                 3155   \n",
       "4         2600                            N                 2611   \n",
       "\n",
       "   AverageChargesInCounty  AverageCostInFacility  AverageChargesInFacility  \\\n",
       "0                    9227                   1751                      8951   \n",
       "1                    8966                   3338                      6409   \n",
       "2                   11381                   4980                      9323   \n",
       "3                   11381                   5826                     15680   \n",
       "4                    9227                   6000                     14344   \n",
       "\n",
       "   AverageIncomeInZipCode  LengthOfStay  \n",
       "0                      45             1  \n",
       "1                      34             1  \n",
       "2                      45             1  \n",
       "3                      59             1  \n",
       "4                      59             1  "
      ]
     },
     "execution_count": 3,
     "metadata": {},
     "output_type": "execute_result"
    }
   ],
   "source": [
    "DischargeFrame.head()"
   ]
  },
  {
   "cell_type": "code",
   "execution_count": 4,
   "metadata": {},
   "outputs": [
    {
     "data": {
      "text/html": [
       "<div>\n",
       "<style scoped>\n",
       "    .dataframe tbody tr th:only-of-type {\n",
       "        vertical-align: middle;\n",
       "    }\n",
       "\n",
       "    .dataframe tbody tr th {\n",
       "        vertical-align: top;\n",
       "    }\n",
       "\n",
       "    .dataframe thead th {\n",
       "        text-align: right;\n",
       "    }\n",
       "</style>\n",
       "<table border=\"1\" class=\"dataframe\">\n",
       "  <thead>\n",
       "    <tr style=\"text-align: right;\">\n",
       "      <th></th>\n",
       "      <th>ID</th>\n",
       "      <th>HealthServiceArea</th>\n",
       "      <th>Gender</th>\n",
       "      <th>Race</th>\n",
       "      <th>TypeOfAdmission</th>\n",
       "      <th>CCSProcedureCode</th>\n",
       "      <th>APRSeverityOfIllnessCode</th>\n",
       "      <th>PaymentTypology</th>\n",
       "      <th>BirthWeight</th>\n",
       "      <th>EmergencyDepartmentIndicator</th>\n",
       "      <th>AverageCostInCounty</th>\n",
       "      <th>AverageChargesInCounty</th>\n",
       "      <th>AverageCostInFacility</th>\n",
       "      <th>AverageChargesInFacility</th>\n",
       "      <th>AverageIncomeInZipCode</th>\n",
       "    </tr>\n",
       "  </thead>\n",
       "  <tbody>\n",
       "    <tr>\n",
       "      <th>0</th>\n",
       "      <td>1</td>\n",
       "      <td>New York City</td>\n",
       "      <td>F</td>\n",
       "      <td>Other Race</td>\n",
       "      <td>Newborn</td>\n",
       "      <td>216</td>\n",
       "      <td>3</td>\n",
       "      <td>Medicaid</td>\n",
       "      <td>4900</td>\n",
       "      <td>N</td>\n",
       "      <td>3242</td>\n",
       "      <td>8966</td>\n",
       "      <td>2448</td>\n",
       "      <td>13196</td>\n",
       "      <td>34</td>\n",
       "    </tr>\n",
       "    <tr>\n",
       "      <th>1</th>\n",
       "      <td>2</td>\n",
       "      <td>New York City</td>\n",
       "      <td>F</td>\n",
       "      <td>White</td>\n",
       "      <td>Newborn</td>\n",
       "      <td>220</td>\n",
       "      <td>1</td>\n",
       "      <td>Medicaid</td>\n",
       "      <td>3100</td>\n",
       "      <td>N</td>\n",
       "      <td>2611</td>\n",
       "      <td>9227</td>\n",
       "      <td>1751</td>\n",
       "      <td>8951</td>\n",
       "      <td>45</td>\n",
       "    </tr>\n",
       "    <tr>\n",
       "      <th>2</th>\n",
       "      <td>3</td>\n",
       "      <td>New York City</td>\n",
       "      <td>M</td>\n",
       "      <td>Multi-racial</td>\n",
       "      <td>Newborn</td>\n",
       "      <td>115</td>\n",
       "      <td>1</td>\n",
       "      <td>Medicaid</td>\n",
       "      <td>3300</td>\n",
       "      <td>N</td>\n",
       "      <td>3155</td>\n",
       "      <td>11381</td>\n",
       "      <td>1052</td>\n",
       "      <td>11314</td>\n",
       "      <td>74</td>\n",
       "    </tr>\n",
       "    <tr>\n",
       "      <th>3</th>\n",
       "      <td>4</td>\n",
       "      <td>New York City</td>\n",
       "      <td>M</td>\n",
       "      <td>Other Race</td>\n",
       "      <td>Newborn</td>\n",
       "      <td>228</td>\n",
       "      <td>1</td>\n",
       "      <td>Medicaid</td>\n",
       "      <td>3300</td>\n",
       "      <td>N</td>\n",
       "      <td>2611</td>\n",
       "      <td>9227</td>\n",
       "      <td>3790</td>\n",
       "      <td>6250</td>\n",
       "      <td>45</td>\n",
       "    </tr>\n",
       "    <tr>\n",
       "      <th>4</th>\n",
       "      <td>5</td>\n",
       "      <td>New York City</td>\n",
       "      <td>F</td>\n",
       "      <td>Other Race</td>\n",
       "      <td>Newborn</td>\n",
       "      <td>220</td>\n",
       "      <td>2</td>\n",
       "      <td>Medicaid</td>\n",
       "      <td>3800</td>\n",
       "      <td>N</td>\n",
       "      <td>3155</td>\n",
       "      <td>11381</td>\n",
       "      <td>3032</td>\n",
       "      <td>10135</td>\n",
       "      <td>59</td>\n",
       "    </tr>\n",
       "  </tbody>\n",
       "</table>\n",
       "</div>"
      ],
      "text/plain": [
       "   ID HealthServiceArea Gender          Race TypeOfAdmission  \\\n",
       "0   1     New York City      F    Other Race         Newborn   \n",
       "1   2     New York City      F         White         Newborn   \n",
       "2   3     New York City      M  Multi-racial         Newborn   \n",
       "3   4     New York City      M    Other Race         Newborn   \n",
       "4   5     New York City      F    Other Race         Newborn   \n",
       "\n",
       "   CCSProcedureCode  APRSeverityOfIllnessCode PaymentTypology  BirthWeight  \\\n",
       "0               216                         3        Medicaid         4900   \n",
       "1               220                         1        Medicaid         3100   \n",
       "2               115                         1        Medicaid         3300   \n",
       "3               228                         1        Medicaid         3300   \n",
       "4               220                         2        Medicaid         3800   \n",
       "\n",
       "  EmergencyDepartmentIndicator  AverageCostInCounty  AverageChargesInCounty  \\\n",
       "0                            N                 3242                    8966   \n",
       "1                            N                 2611                    9227   \n",
       "2                            N                 3155                   11381   \n",
       "3                            N                 2611                    9227   \n",
       "4                            N                 3155                   11381   \n",
       "\n",
       "   AverageCostInFacility  AverageChargesInFacility  AverageIncomeInZipCode  \n",
       "0                   2448                     13196                      34  \n",
       "1                   1751                      8951                      45  \n",
       "2                   1052                     11314                      74  \n",
       "3                   3790                      6250                      45  \n",
       "4                   3032                     10135                      59  "
      ]
     },
     "execution_count": 4,
     "metadata": {},
     "output_type": "execute_result"
    }
   ],
   "source": [
    "Test_Data.head()"
   ]
  },
  {
   "cell_type": "code",
   "execution_count": 5,
   "metadata": {},
   "outputs": [],
   "source": [
    "# Setting ID as index\n",
    "DischargeFrame.set_index(\"ID\", inplace=True)\n",
    "Test_Data.set_index(\"ID\", inplace=True)"
   ]
  },
  {
   "cell_type": "code",
   "execution_count": 6,
   "metadata": {},
   "outputs": [],
   "source": [
    "# Converting Dtype of CCSProcedureCode from integer to object type.\n",
    "DischargeFrame.CCSProcedureCode = DischargeFrame.CCSProcedureCode.astype(object)\n",
    "Test_Data.CCSProcedureCode = Test_Data.CCSProcedureCode.astype(object)"
   ]
  },
  {
   "cell_type": "code",
   "execution_count": 7,
   "metadata": {},
   "outputs": [
    {
     "data": {
      "text/html": [
       "<div>\n",
       "<style scoped>\n",
       "    .dataframe tbody tr th:only-of-type {\n",
       "        vertical-align: middle;\n",
       "    }\n",
       "\n",
       "    .dataframe tbody tr th {\n",
       "        vertical-align: top;\n",
       "    }\n",
       "\n",
       "    .dataframe thead th {\n",
       "        text-align: right;\n",
       "    }\n",
       "</style>\n",
       "<table border=\"1\" class=\"dataframe\">\n",
       "  <thead>\n",
       "    <tr style=\"text-align: right;\">\n",
       "      <th></th>\n",
       "      <th>HealthServiceArea</th>\n",
       "      <th>Gender</th>\n",
       "      <th>Race</th>\n",
       "      <th>TypeOfAdmission</th>\n",
       "      <th>CCSProcedureCode</th>\n",
       "      <th>PaymentTypology</th>\n",
       "      <th>EmergencyDepartmentIndicator</th>\n",
       "    </tr>\n",
       "  </thead>\n",
       "  <tbody>\n",
       "    <tr>\n",
       "      <th>count</th>\n",
       "      <td>69177</td>\n",
       "      <td>69177</td>\n",
       "      <td>69177</td>\n",
       "      <td>69177</td>\n",
       "      <td>69177</td>\n",
       "      <td>69177</td>\n",
       "      <td>69177</td>\n",
       "    </tr>\n",
       "    <tr>\n",
       "      <th>unique</th>\n",
       "      <td>3</td>\n",
       "      <td>3</td>\n",
       "      <td>4</td>\n",
       "      <td>5</td>\n",
       "      <td>7</td>\n",
       "      <td>10</td>\n",
       "      <td>2</td>\n",
       "    </tr>\n",
       "    <tr>\n",
       "      <th>top</th>\n",
       "      <td>New York City</td>\n",
       "      <td>M</td>\n",
       "      <td>White</td>\n",
       "      <td>Newborn</td>\n",
       "      <td>228</td>\n",
       "      <td>Medicaid</td>\n",
       "      <td>N</td>\n",
       "    </tr>\n",
       "    <tr>\n",
       "      <th>freq</th>\n",
       "      <td>38642</td>\n",
       "      <td>35471</td>\n",
       "      <td>30432</td>\n",
       "      <td>68125</td>\n",
       "      <td>24212</td>\n",
       "      <td>37037</td>\n",
       "      <td>68829</td>\n",
       "    </tr>\n",
       "  </tbody>\n",
       "</table>\n",
       "</div>"
      ],
      "text/plain": [
       "       HealthServiceArea Gender   Race TypeOfAdmission  CCSProcedureCode  \\\n",
       "count              69177  69177  69177           69177             69177   \n",
       "unique                 3      3      4               5                 7   \n",
       "top        New York City      M  White         Newborn               228   \n",
       "freq               38642  35471  30432           68125             24212   \n",
       "\n",
       "       PaymentTypology EmergencyDepartmentIndicator  \n",
       "count            69177                        69177  \n",
       "unique              10                            2  \n",
       "top           Medicaid                            N  \n",
       "freq             37037                        68829  "
      ]
     },
     "execution_count": 7,
     "metadata": {},
     "output_type": "execute_result"
    }
   ],
   "source": [
    "\n",
    "Test_Data.describe(include = np.object)"
   ]
  },
  {
   "cell_type": "markdown",
   "metadata": {},
   "source": [
    "The above table reflects the different types of observations under each categorical column. Lets take a look into futher details"
   ]
  },
  {
   "cell_type": "code",
   "execution_count": 8,
   "metadata": {},
   "outputs": [
    {
     "name": "stdout",
     "output_type": "stream",
     "text": [
      "Column: HealthServiceArea\n",
      "New York City    38642\n",
      "Hudson Valley    19156\n",
      "Finger Lakes     11379\n",
      "Name: HealthServiceArea, dtype: int64\n",
      "===================================\n",
      "Column: Gender\n",
      "M    35471\n",
      "F    33704\n",
      "U        2\n",
      "Name: Gender, dtype: int64\n",
      "===================================\n",
      "Column: Race\n",
      "White                     30432\n",
      "Other Race                27043\n",
      "Black/African American    10780\n",
      "Multi-racial                922\n",
      "Name: Race, dtype: int64\n",
      "===================================\n",
      "Column: TypeOfAdmission\n",
      "Newborn      68125\n",
      "Emergency      495\n",
      "Urgent         362\n",
      "Elective       194\n",
      "Trauma           1\n",
      "Name: TypeOfAdmission, dtype: int64\n",
      "===================================\n",
      "Column: CCSProcedureCode\n",
      " 228    24212\n",
      " 0      15120\n",
      " 220    13108\n",
      " 115    12819\n",
      " 231     2535\n",
      " 216      764\n",
      "-1        619\n",
      "Name: CCSProcedureCode, dtype: int64\n",
      "===================================\n",
      "Column: PaymentTypology\n",
      "Medicaid                     37037\n",
      "Private Health Insurance     14871\n",
      "Blue Cross/Blue Shield       12795\n",
      "Self-Pay                      2508\n",
      "Managed Care, Unspecified     1539\n",
      "Federal/State/Local/VA         320\n",
      "Medicare                        43\n",
      "Miscellaneous/Other             27\n",
      "Unknown                         25\n",
      "Department of Corrections       12\n",
      "Name: PaymentTypology, dtype: int64\n",
      "===================================\n",
      "Column: EmergencyDepartmentIndicator\n",
      "N    68829\n",
      "Y      348\n",
      "Name: EmergencyDepartmentIndicator, dtype: int64\n",
      "===================================\n"
     ]
    }
   ],
   "source": [
    "for col in Test_Data.select_dtypes(object):\n",
    "    print(\"Column: \" + col)\n",
    "    print(Test_Data[col].value_counts())\n",
    "    print(\"===================================\")"
   ]
  },
  {
   "cell_type": "markdown",
   "metadata": {},
   "source": [
    "Checking if the dataset has been loaded succcessfully in the dataframe and reading first few lines of it.\n",
    "\n",
    "In this Dataset \"Length of Stay \" is our target variable."
   ]
  },
  {
   "cell_type": "markdown",
   "metadata": {},
   "source": [
    "# Exploratory Data Analysis (EDA)\n",
    "\n",
    "Now we perform the EDA for the dataset(with Traget) provided\n"
   ]
  },
  {
   "cell_type": "markdown",
   "metadata": {},
   "source": [
    "### Checking the shape of dataset\n"
   ]
  },
  {
   "cell_type": "code",
   "execution_count": 9,
   "metadata": {},
   "outputs": [
    {
     "data": {
      "text/plain": [
       "(59966, 15)"
      ]
     },
     "execution_count": 9,
     "metadata": {},
     "output_type": "execute_result"
    }
   ],
   "source": [
    "DischargeFrame.shape"
   ]
  },
  {
   "cell_type": "markdown",
   "metadata": {},
   "source": [
    "### Check for Missing values\n",
    "\n"
   ]
  },
  {
   "cell_type": "code",
   "execution_count": 10,
   "metadata": {
    "scrolled": true
   },
   "outputs": [
    {
     "data": {
      "text/plain": [
       "HealthServiceArea               0\n",
       "Gender                          0\n",
       "Race                            0\n",
       "TypeOfAdmission                 0\n",
       "CCSProcedureCode                0\n",
       "APRSeverityOfIllnessCode        0\n",
       "PaymentTypology                 0\n",
       "BirthWeight                     0\n",
       "EmergencyDepartmentIndicator    0\n",
       "AverageCostInCounty             0\n",
       "AverageChargesInCounty          0\n",
       "AverageCostInFacility           0\n",
       "AverageChargesInFacility        0\n",
       "AverageIncomeInZipCode          0\n",
       "LengthOfStay                    0\n",
       "dtype: int64"
      ]
     },
     "execution_count": 10,
     "metadata": {},
     "output_type": "execute_result"
    }
   ],
   "source": [
    "pd.isna(DischargeFrame).sum()"
   ]
  },
  {
   "cell_type": "markdown",
   "metadata": {},
   "source": [
    "As evident from the above output there is no missing value in the dataset."
   ]
  },
  {
   "cell_type": "code",
   "execution_count": 11,
   "metadata": {},
   "outputs": [
    {
     "data": {
      "text/plain": [
       "HealthServiceArea               0\n",
       "Gender                          0\n",
       "Race                            0\n",
       "TypeOfAdmission                 0\n",
       "CCSProcedureCode                0\n",
       "APRSeverityOfIllnessCode        0\n",
       "PaymentTypology                 0\n",
       "BirthWeight                     0\n",
       "EmergencyDepartmentIndicator    0\n",
       "AverageCostInCounty             0\n",
       "AverageChargesInCounty          0\n",
       "AverageCostInFacility           0\n",
       "AverageChargesInFacility        0\n",
       "AverageIncomeInZipCode          0\n",
       "dtype: int64"
      ]
     },
     "execution_count": 11,
     "metadata": {},
     "output_type": "execute_result"
    }
   ],
   "source": [
    "# check for missing value in unseen data\n",
    "pd.isna(Test_Data).sum()"
   ]
  },
  {
   "cell_type": "markdown",
   "metadata": {},
   "source": [
    "## Checking Data types"
   ]
  },
  {
   "cell_type": "code",
   "execution_count": 12,
   "metadata": {
    "scrolled": false
   },
   "outputs": [
    {
     "name": "stdout",
     "output_type": "stream",
     "text": [
      "<class 'pandas.core.frame.DataFrame'>\n",
      "Int64Index: 59966 entries, 1 to 59966\n",
      "Data columns (total 15 columns):\n",
      " #   Column                        Non-Null Count  Dtype \n",
      "---  ------                        --------------  ----- \n",
      " 0   HealthServiceArea             59966 non-null  object\n",
      " 1   Gender                        59966 non-null  object\n",
      " 2   Race                          59966 non-null  object\n",
      " 3   TypeOfAdmission               59966 non-null  object\n",
      " 4   CCSProcedureCode              59966 non-null  object\n",
      " 5   APRSeverityOfIllnessCode      59966 non-null  int64 \n",
      " 6   PaymentTypology               59966 non-null  object\n",
      " 7   BirthWeight                   59966 non-null  int64 \n",
      " 8   EmergencyDepartmentIndicator  59966 non-null  object\n",
      " 9   AverageCostInCounty           59966 non-null  int64 \n",
      " 10  AverageChargesInCounty        59966 non-null  int64 \n",
      " 11  AverageCostInFacility         59966 non-null  int64 \n",
      " 12  AverageChargesInFacility      59966 non-null  int64 \n",
      " 13  AverageIncomeInZipCode        59966 non-null  int64 \n",
      " 14  LengthOfStay                  59966 non-null  int64 \n",
      "dtypes: int64(8), object(7)\n",
      "memory usage: 7.3+ MB\n"
     ]
    }
   ],
   "source": [
    "DischargeFrame.info()"
   ]
  },
  {
   "cell_type": "markdown",
   "metadata": {},
   "source": [
    "From the above output we could observe that the CCSProcedureCode and  APRSeverityOfIllnessCode is of type integer but we need to treat them as categorical features. CCSProcedureCode is a procedure category code in this data frame and APRSeverityOfIllnessCode is ordinal attribute which indicates the severity of illness where its magnitude indicates severity i.e higher magnitude indicates more severity.\n",
    "\n",
    "All other attributes are of appropriate datatypes."
   ]
  },
  {
   "cell_type": "code",
   "execution_count": 13,
   "metadata": {},
   "outputs": [
    {
     "name": "stdout",
     "output_type": "stream",
     "text": [
      "<class 'pandas.core.frame.DataFrame'>\n",
      "Int64Index: 69177 entries, 1 to 69177\n",
      "Data columns (total 14 columns):\n",
      " #   Column                        Non-Null Count  Dtype \n",
      "---  ------                        --------------  ----- \n",
      " 0   HealthServiceArea             69177 non-null  object\n",
      " 1   Gender                        69177 non-null  object\n",
      " 2   Race                          69177 non-null  object\n",
      " 3   TypeOfAdmission               69177 non-null  object\n",
      " 4   CCSProcedureCode              69177 non-null  object\n",
      " 5   APRSeverityOfIllnessCode      69177 non-null  int64 \n",
      " 6   PaymentTypology               69177 non-null  object\n",
      " 7   BirthWeight                   69177 non-null  int64 \n",
      " 8   EmergencyDepartmentIndicator  69177 non-null  object\n",
      " 9   AverageCostInCounty           69177 non-null  int64 \n",
      " 10  AverageChargesInCounty        69177 non-null  int64 \n",
      " 11  AverageCostInFacility         69177 non-null  int64 \n",
      " 12  AverageChargesInFacility      69177 non-null  int64 \n",
      " 13  AverageIncomeInZipCode        69177 non-null  int64 \n",
      "dtypes: int64(7), object(7)\n",
      "memory usage: 7.9+ MB\n"
     ]
    }
   ],
   "source": [
    "# check for missing value in unseen data\n",
    "Test_Data.info()"
   ]
  },
  {
   "cell_type": "markdown",
   "metadata": {},
   "source": [
    "## Dropping ID and HealthServiceArea from Dataframe"
   ]
  },
  {
   "cell_type": "markdown",
   "metadata": {},
   "source": [
    "We need to drop the ID and healthservicearea attribute from the dataframe as per assignment instructions since they serve no purpose in prediction. So above we set ID as Index and now we drop Healthservicearea from the dataset.\n",
    "\n",
    "**Reason:** ID is unique to each observation and removing Heathservice area we could generalize our model beyond the list of health service area given in the dataset."
   ]
  },
  {
   "cell_type": "code",
   "execution_count": 14,
   "metadata": {},
   "outputs": [],
   "source": [
    "# dropping HealthServiceArea from both seen dataset and unseen dataset\n",
    "DischargeFrame.drop(columns = [\"HealthServiceArea\"], inplace=True)\n",
    "Test_Data.drop(columns = [\"HealthServiceArea\"], inplace=True)"
   ]
  },
  {
   "cell_type": "markdown",
   "metadata": {},
   "source": [
    "## Summary Statistics of Numerical and Categorical attributes"
   ]
  },
  {
   "cell_type": "code",
   "execution_count": 15,
   "metadata": {
    "scrolled": false
   },
   "outputs": [
    {
     "data": {
      "text/html": [
       "<div>\n",
       "<style scoped>\n",
       "    .dataframe tbody tr th:only-of-type {\n",
       "        vertical-align: middle;\n",
       "    }\n",
       "\n",
       "    .dataframe tbody tr th {\n",
       "        vertical-align: top;\n",
       "    }\n",
       "\n",
       "    .dataframe thead th {\n",
       "        text-align: right;\n",
       "    }\n",
       "</style>\n",
       "<table border=\"1\" class=\"dataframe\">\n",
       "  <thead>\n",
       "    <tr style=\"text-align: right;\">\n",
       "      <th></th>\n",
       "      <th>APRSeverityOfIllnessCode</th>\n",
       "      <th>BirthWeight</th>\n",
       "      <th>AverageCostInCounty</th>\n",
       "      <th>AverageChargesInCounty</th>\n",
       "      <th>AverageCostInFacility</th>\n",
       "      <th>AverageChargesInFacility</th>\n",
       "      <th>AverageIncomeInZipCode</th>\n",
       "      <th>LengthOfStay</th>\n",
       "    </tr>\n",
       "  </thead>\n",
       "  <tbody>\n",
       "    <tr>\n",
       "      <th>count</th>\n",
       "      <td>59966.000000</td>\n",
       "      <td>59966.000000</td>\n",
       "      <td>59966.000000</td>\n",
       "      <td>59966.000000</td>\n",
       "      <td>59966.000000</td>\n",
       "      <td>59966.000000</td>\n",
       "      <td>59966.000000</td>\n",
       "      <td>59966.000000</td>\n",
       "    </tr>\n",
       "    <tr>\n",
       "      <th>mean</th>\n",
       "      <td>1.254594</td>\n",
       "      <td>3336.298903</td>\n",
       "      <td>2372.806690</td>\n",
       "      <td>7979.126922</td>\n",
       "      <td>2396.414318</td>\n",
       "      <td>7958.472668</td>\n",
       "      <td>59.811143</td>\n",
       "      <td>2.538405</td>\n",
       "    </tr>\n",
       "    <tr>\n",
       "      <th>std</th>\n",
       "      <td>0.546207</td>\n",
       "      <td>446.244475</td>\n",
       "      <td>639.755096</td>\n",
       "      <td>3220.291347</td>\n",
       "      <td>1248.501189</td>\n",
       "      <td>3859.294711</td>\n",
       "      <td>21.470170</td>\n",
       "      <td>1.171246</td>\n",
       "    </tr>\n",
       "    <tr>\n",
       "      <th>min</th>\n",
       "      <td>1.000000</td>\n",
       "      <td>2500.000000</td>\n",
       "      <td>712.000000</td>\n",
       "      <td>1243.000000</td>\n",
       "      <td>457.000000</td>\n",
       "      <td>1120.000000</td>\n",
       "      <td>28.000000</td>\n",
       "      <td>1.000000</td>\n",
       "    </tr>\n",
       "    <tr>\n",
       "      <th>25%</th>\n",
       "      <td>1.000000</td>\n",
       "      <td>3000.000000</td>\n",
       "      <td>2041.000000</td>\n",
       "      <td>4620.000000</td>\n",
       "      <td>1551.000000</td>\n",
       "      <td>4438.000000</td>\n",
       "      <td>45.000000</td>\n",
       "      <td>2.000000</td>\n",
       "    </tr>\n",
       "    <tr>\n",
       "      <th>50%</th>\n",
       "      <td>1.000000</td>\n",
       "      <td>3300.000000</td>\n",
       "      <td>2533.000000</td>\n",
       "      <td>9227.000000</td>\n",
       "      <td>1967.000000</td>\n",
       "      <td>7945.000000</td>\n",
       "      <td>55.000000</td>\n",
       "      <td>2.000000</td>\n",
       "    </tr>\n",
       "    <tr>\n",
       "      <th>75%</th>\n",
       "      <td>1.000000</td>\n",
       "      <td>3600.000000</td>\n",
       "      <td>2785.000000</td>\n",
       "      <td>10644.000000</td>\n",
       "      <td>2895.000000</td>\n",
       "      <td>11619.000000</td>\n",
       "      <td>74.000000</td>\n",
       "      <td>3.000000</td>\n",
       "    </tr>\n",
       "    <tr>\n",
       "      <th>max</th>\n",
       "      <td>4.000000</td>\n",
       "      <td>7500.000000</td>\n",
       "      <td>3242.000000</td>\n",
       "      <td>11381.000000</td>\n",
       "      <td>8114.000000</td>\n",
       "      <td>18466.000000</td>\n",
       "      <td>115.000000</td>\n",
       "      <td>10.000000</td>\n",
       "    </tr>\n",
       "  </tbody>\n",
       "</table>\n",
       "</div>"
      ],
      "text/plain": [
       "       APRSeverityOfIllnessCode   BirthWeight  AverageCostInCounty  \\\n",
       "count              59966.000000  59966.000000         59966.000000   \n",
       "mean                   1.254594   3336.298903          2372.806690   \n",
       "std                    0.546207    446.244475           639.755096   \n",
       "min                    1.000000   2500.000000           712.000000   \n",
       "25%                    1.000000   3000.000000          2041.000000   \n",
       "50%                    1.000000   3300.000000          2533.000000   \n",
       "75%                    1.000000   3600.000000          2785.000000   \n",
       "max                    4.000000   7500.000000          3242.000000   \n",
       "\n",
       "       AverageChargesInCounty  AverageCostInFacility  \\\n",
       "count            59966.000000           59966.000000   \n",
       "mean              7979.126922            2396.414318   \n",
       "std               3220.291347            1248.501189   \n",
       "min               1243.000000             457.000000   \n",
       "25%               4620.000000            1551.000000   \n",
       "50%               9227.000000            1967.000000   \n",
       "75%              10644.000000            2895.000000   \n",
       "max              11381.000000            8114.000000   \n",
       "\n",
       "       AverageChargesInFacility  AverageIncomeInZipCode  LengthOfStay  \n",
       "count              59966.000000            59966.000000  59966.000000  \n",
       "mean                7958.472668               59.811143      2.538405  \n",
       "std                 3859.294711               21.470170      1.171246  \n",
       "min                 1120.000000               28.000000      1.000000  \n",
       "25%                 4438.000000               45.000000      2.000000  \n",
       "50%                 7945.000000               55.000000      2.000000  \n",
       "75%                11619.000000               74.000000      3.000000  \n",
       "max                18466.000000              115.000000     10.000000  "
      ]
     },
     "execution_count": 15,
     "metadata": {},
     "output_type": "execute_result"
    }
   ],
   "source": [
    "DischargeFrame.describe()"
   ]
  },
  {
   "cell_type": "markdown",
   "metadata": {},
   "source": [
    "* APRSeverityOfIllnessCode is ordinal attribute.\n",
    "\n",
    "* There seems to be a lot of variance in most of the attributes. So further investigation needs to be done.\n",
    "\n",
    "* The value ranges varies from one attribute to another and hence feature scaling needs to be done.\n",
    "\n",
    "* BirthWeight has a maximum weight of 7.5 kg which is very unusual.\n",
    "\n",
    "* Other Numeric attributes looks fine at first glance but needs further detailed analysis about their distribution"
   ]
  },
  {
   "cell_type": "code",
   "execution_count": 16,
   "metadata": {},
   "outputs": [
    {
     "data": {
      "text/html": [
       "<div>\n",
       "<style scoped>\n",
       "    .dataframe tbody tr th:only-of-type {\n",
       "        vertical-align: middle;\n",
       "    }\n",
       "\n",
       "    .dataframe tbody tr th {\n",
       "        vertical-align: top;\n",
       "    }\n",
       "\n",
       "    .dataframe thead th {\n",
       "        text-align: right;\n",
       "    }\n",
       "</style>\n",
       "<table border=\"1\" class=\"dataframe\">\n",
       "  <thead>\n",
       "    <tr style=\"text-align: right;\">\n",
       "      <th></th>\n",
       "      <th>APRSeverityOfIllnessCode</th>\n",
       "      <th>BirthWeight</th>\n",
       "      <th>AverageCostInCounty</th>\n",
       "      <th>AverageChargesInCounty</th>\n",
       "      <th>AverageCostInFacility</th>\n",
       "      <th>AverageChargesInFacility</th>\n",
       "      <th>AverageIncomeInZipCode</th>\n",
       "    </tr>\n",
       "  </thead>\n",
       "  <tbody>\n",
       "    <tr>\n",
       "      <th>count</th>\n",
       "      <td>69177.000000</td>\n",
       "      <td>69177.000000</td>\n",
       "      <td>69177.000000</td>\n",
       "      <td>69177.000000</td>\n",
       "      <td>69177.000000</td>\n",
       "      <td>69177.000000</td>\n",
       "      <td>69177.000000</td>\n",
       "    </tr>\n",
       "    <tr>\n",
       "      <th>mean</th>\n",
       "      <td>1.244792</td>\n",
       "      <td>3330.408951</td>\n",
       "      <td>2552.165763</td>\n",
       "      <td>7931.159793</td>\n",
       "      <td>2543.578169</td>\n",
       "      <td>7922.475563</td>\n",
       "      <td>60.594750</td>\n",
       "    </tr>\n",
       "    <tr>\n",
       "      <th>std</th>\n",
       "      <td>0.521187</td>\n",
       "      <td>436.355795</td>\n",
       "      <td>725.397646</td>\n",
       "      <td>2825.156928</td>\n",
       "      <td>1410.789231</td>\n",
       "      <td>3865.295769</td>\n",
       "      <td>21.637225</td>\n",
       "    </tr>\n",
       "    <tr>\n",
       "      <th>min</th>\n",
       "      <td>1.000000</td>\n",
       "      <td>2500.000000</td>\n",
       "      <td>631.000000</td>\n",
       "      <td>1491.000000</td>\n",
       "      <td>631.000000</td>\n",
       "      <td>1491.000000</td>\n",
       "      <td>28.000000</td>\n",
       "    </tr>\n",
       "    <tr>\n",
       "      <th>25%</th>\n",
       "      <td>1.000000</td>\n",
       "      <td>3000.000000</td>\n",
       "      <td>1944.000000</td>\n",
       "      <td>6546.000000</td>\n",
       "      <td>1494.000000</td>\n",
       "      <td>5157.000000</td>\n",
       "      <td>45.000000</td>\n",
       "    </tr>\n",
       "    <tr>\n",
       "      <th>50%</th>\n",
       "      <td>1.000000</td>\n",
       "      <td>3300.000000</td>\n",
       "      <td>2611.000000</td>\n",
       "      <td>8966.000000</td>\n",
       "      <td>2138.000000</td>\n",
       "      <td>6915.000000</td>\n",
       "      <td>57.000000</td>\n",
       "    </tr>\n",
       "    <tr>\n",
       "      <th>75%</th>\n",
       "      <td>1.000000</td>\n",
       "      <td>3600.000000</td>\n",
       "      <td>3155.000000</td>\n",
       "      <td>9917.000000</td>\n",
       "      <td>3338.000000</td>\n",
       "      <td>11011.000000</td>\n",
       "      <td>74.000000</td>\n",
       "    </tr>\n",
       "    <tr>\n",
       "      <th>max</th>\n",
       "      <td>4.000000</td>\n",
       "      <td>9000.000000</td>\n",
       "      <td>3623.000000</td>\n",
       "      <td>11381.000000</td>\n",
       "      <td>6953.000000</td>\n",
       "      <td>22564.000000</td>\n",
       "      <td>115.000000</td>\n",
       "    </tr>\n",
       "  </tbody>\n",
       "</table>\n",
       "</div>"
      ],
      "text/plain": [
       "       APRSeverityOfIllnessCode   BirthWeight  AverageCostInCounty  \\\n",
       "count              69177.000000  69177.000000         69177.000000   \n",
       "mean                   1.244792   3330.408951          2552.165763   \n",
       "std                    0.521187    436.355795           725.397646   \n",
       "min                    1.000000   2500.000000           631.000000   \n",
       "25%                    1.000000   3000.000000          1944.000000   \n",
       "50%                    1.000000   3300.000000          2611.000000   \n",
       "75%                    1.000000   3600.000000          3155.000000   \n",
       "max                    4.000000   9000.000000          3623.000000   \n",
       "\n",
       "       AverageChargesInCounty  AverageCostInFacility  \\\n",
       "count            69177.000000           69177.000000   \n",
       "mean              7931.159793            2543.578169   \n",
       "std               2825.156928            1410.789231   \n",
       "min               1491.000000             631.000000   \n",
       "25%               6546.000000            1494.000000   \n",
       "50%               8966.000000            2138.000000   \n",
       "75%               9917.000000            3338.000000   \n",
       "max              11381.000000            6953.000000   \n",
       "\n",
       "       AverageChargesInFacility  AverageIncomeInZipCode  \n",
       "count              69177.000000            69177.000000  \n",
       "mean                7922.475563               60.594750  \n",
       "std                 3865.295769               21.637225  \n",
       "min                 1491.000000               28.000000  \n",
       "25%                 5157.000000               45.000000  \n",
       "50%                 6915.000000               57.000000  \n",
       "75%                11011.000000               74.000000  \n",
       "max                22564.000000              115.000000  "
      ]
     },
     "execution_count": 16,
     "metadata": {},
     "output_type": "execute_result"
    }
   ],
   "source": [
    "# comparing the seen dataset description with unseen data description\n",
    "Test_Data.describe()"
   ]
  },
  {
   "cell_type": "code",
   "execution_count": 17,
   "metadata": {},
   "outputs": [
    {
     "data": {
      "text/plain": [
       " 228    19886\n",
       " 115    13628\n",
       " 0      11189\n",
       " 220    10773\n",
       " 231     2981\n",
       "-1        769\n",
       " 216      740\n",
       "Name: CCSProcedureCode, dtype: int64"
      ]
     },
     "execution_count": 17,
     "metadata": {},
     "output_type": "execute_result"
    }
   ],
   "source": [
    "DischargeFrame.CCSProcedureCode.value_counts()"
   ]
  },
  {
   "cell_type": "markdown",
   "metadata": {},
   "source": [
    "Further investigation reveals there are 769 instances of procedure code with -1 value."
   ]
  },
  {
   "cell_type": "markdown",
   "metadata": {},
   "source": [
    "### Exploring Categorical Attributes:"
   ]
  },
  {
   "cell_type": "code",
   "execution_count": 18,
   "metadata": {},
   "outputs": [
    {
     "data": {
      "text/html": [
       "<div>\n",
       "<style scoped>\n",
       "    .dataframe tbody tr th:only-of-type {\n",
       "        vertical-align: middle;\n",
       "    }\n",
       "\n",
       "    .dataframe tbody tr th {\n",
       "        vertical-align: top;\n",
       "    }\n",
       "\n",
       "    .dataframe thead th {\n",
       "        text-align: right;\n",
       "    }\n",
       "</style>\n",
       "<table border=\"1\" class=\"dataframe\">\n",
       "  <thead>\n",
       "    <tr style=\"text-align: right;\">\n",
       "      <th></th>\n",
       "      <th>Gender</th>\n",
       "      <th>Race</th>\n",
       "      <th>TypeOfAdmission</th>\n",
       "      <th>CCSProcedureCode</th>\n",
       "      <th>PaymentTypology</th>\n",
       "      <th>EmergencyDepartmentIndicator</th>\n",
       "    </tr>\n",
       "  </thead>\n",
       "  <tbody>\n",
       "    <tr>\n",
       "      <th>count</th>\n",
       "      <td>59966</td>\n",
       "      <td>59966</td>\n",
       "      <td>59966</td>\n",
       "      <td>59966</td>\n",
       "      <td>59966</td>\n",
       "      <td>59966</td>\n",
       "    </tr>\n",
       "    <tr>\n",
       "      <th>unique</th>\n",
       "      <td>3</td>\n",
       "      <td>4</td>\n",
       "      <td>4</td>\n",
       "      <td>7</td>\n",
       "      <td>9</td>\n",
       "      <td>2</td>\n",
       "    </tr>\n",
       "    <tr>\n",
       "      <th>top</th>\n",
       "      <td>M</td>\n",
       "      <td>White</td>\n",
       "      <td>Newborn</td>\n",
       "      <td>228</td>\n",
       "      <td>Medicaid</td>\n",
       "      <td>N</td>\n",
       "    </tr>\n",
       "    <tr>\n",
       "      <th>freq</th>\n",
       "      <td>30978</td>\n",
       "      <td>32943</td>\n",
       "      <td>58741</td>\n",
       "      <td>19886</td>\n",
       "      <td>28723</td>\n",
       "      <td>59453</td>\n",
       "    </tr>\n",
       "  </tbody>\n",
       "</table>\n",
       "</div>"
      ],
      "text/plain": [
       "       Gender   Race TypeOfAdmission  CCSProcedureCode PaymentTypology  \\\n",
       "count   59966  59966           59966             59966           59966   \n",
       "unique      3      4               4                 7               9   \n",
       "top         M  White         Newborn               228        Medicaid   \n",
       "freq    30978  32943           58741             19886           28723   \n",
       "\n",
       "       EmergencyDepartmentIndicator  \n",
       "count                         59966  \n",
       "unique                            2  \n",
       "top                               N  \n",
       "freq                          59453  "
      ]
     },
     "execution_count": 18,
     "metadata": {},
     "output_type": "execute_result"
    }
   ],
   "source": [
    "DischargeFrame.describe(include = np.object)"
   ]
  },
  {
   "cell_type": "markdown",
   "metadata": {},
   "source": [
    "Summary statistics for all the object type attributes are given above. We can recheck the count and unique values for each attribute and the frequency of the maximum occuring class of each attribute. \n",
    "\n",
    "We can observe that:\n",
    "1. The Emergency Department indicator has only 2 unique values \n",
    "2. Gender attribute has 3 unique genders \n",
    "3. Race attribute has 4 unique race types \n",
    "4. Payment typology needs further investigation as the data description does not state the values to be expected in the dataset.\n",
    "\n",
    "Lets investigate all of them in details"
   ]
  },
  {
   "cell_type": "code",
   "execution_count": 19,
   "metadata": {},
   "outputs": [
    {
     "name": "stdout",
     "output_type": "stream",
     "text": [
      "Column: Gender\n",
      "M    30978\n",
      "F    28987\n",
      "U        1\n",
      "Name: Gender, dtype: int64\n",
      "===================================\n",
      "Column: Race\n",
      "White                     32943\n",
      "Other Race                18314\n",
      "Black/African American     8183\n",
      "Multi-racial                526\n",
      "Name: Race, dtype: int64\n",
      "===================================\n",
      "Column: TypeOfAdmission\n",
      "Newborn      58741\n",
      "Emergency      659\n",
      "Urgent         412\n",
      "Elective       154\n",
      "Name: TypeOfAdmission, dtype: int64\n",
      "===================================\n",
      "Column: CCSProcedureCode\n",
      " 228    19886\n",
      " 115    13628\n",
      " 0      11189\n",
      " 220    10773\n",
      " 231     2981\n",
      "-1        769\n",
      " 216      740\n",
      "Name: CCSProcedureCode, dtype: int64\n",
      "===================================\n",
      "Column: PaymentTypology\n",
      "Medicaid                     28723\n",
      "Private Health Insurance     15608\n",
      "Blue Cross/Blue Shield       12073\n",
      "Self-Pay                      1984\n",
      "Federal/State/Local/VA         849\n",
      "Managed Care, Unspecified      545\n",
      "Miscellaneous/Other            118\n",
      "Medicare                        44\n",
      "Unknown                         22\n",
      "Name: PaymentTypology, dtype: int64\n",
      "===================================\n",
      "Column: EmergencyDepartmentIndicator\n",
      "N    59453\n",
      "Y      513\n",
      "Name: EmergencyDepartmentIndicator, dtype: int64\n",
      "===================================\n"
     ]
    }
   ],
   "source": [
    "for col in DischargeFrame.select_dtypes(object):\n",
    "    print(\"Column: \" + col)\n",
    "    print(DischargeFrame[col].value_counts())\n",
    "    print(\"===================================\")"
   ]
  },
  {
   "cell_type": "markdown",
   "metadata": {},
   "source": [
    "**Observations:**\n",
    "\n",
    "* Gender has 1 unknown row \n",
    "* PaymentTypology has few Unknown rows as well. \n",
    "\n",
    "Since they are less tha 5% of the total observations its best to drop them from the Dataframe."
   ]
  },
  {
   "cell_type": "code",
   "execution_count": 20,
   "metadata": {},
   "outputs": [],
   "source": [
    "DischargeFrame.drop(DischargeFrame[DischargeFrame.PaymentTypology == 'Unknown'].index, inplace=True)\n",
    "DischargeFrame.drop(DischargeFrame[DischargeFrame.Gender == 'U'].index, inplace=True)"
   ]
  },
  {
   "cell_type": "markdown",
   "metadata": {},
   "source": [
    "**Now Lets check the Data distribution by plotting histograms**"
   ]
  },
  {
   "cell_type": "code",
   "execution_count": 21,
   "metadata": {
    "scrolled": false
   },
   "outputs": [
    {
     "data": {
      "image/png": "[encoded data removed]",
      "text/plain": [
       "<Figure size 1440x1440 with 14 Axes>"
      ]
     },
     "metadata": {
      "needs_background": "light"
     },
     "output_type": "display_data"
    }
   ],
   "source": [
    "plt.figure(figsize=(20,20))\n",
    "for i, col in enumerate(DischargeFrame.columns):\n",
    "    plt.subplot(4,5,i+1)\n",
    "    plt.hist(DischargeFrame[col], alpha=0.3, color='b', density=True)\n",
    "    plt.title(col)\n",
    "    plt.xticks(rotation='vertical')"
   ]
  },
  {
   "cell_type": "markdown",
   "metadata": {},
   "source": [
    "**Observations:**\n",
    "\n",
    "* Instances are mostly for 'New born' type maximum\n",
    "* CCS procedure code is categorical variable\n",
    "* Severe cases of magnitude 4 is considerably less.\n",
    "* Medicaid, Bluecross/Blue shield, Private health Insurance has maximum number of instances under Payment Typology\n",
    "* Many attributes are skewed i.e Birthweight, Average cost in country, Average cost in facility.\n",
    "* There are considerably large instances of No in Emergency Department Indicator."
   ]
  },
  {
   "cell_type": "markdown",
   "metadata": {},
   "source": [
    "## Scatter plot to explore relation between Target and Numeric attributes"
   ]
  },
  {
   "cell_type": "code",
   "execution_count": 22,
   "metadata": {
    "scrolled": false
   },
   "outputs": [
    {
     "data": {
      "image/png": "[encoded data removed]",
      "text/plain": [
       "<Figure size 1440x2880 with 8 Axes>"
      ]
     },
     "metadata": {
      "needs_background": "light"
     },
     "output_type": "display_data"
    }
   ],
   "source": [
    "plt.figure(figsize=(20,40))\n",
    "for i, column in enumerate(DischargeFrame.select_dtypes(\"int64\")):\n",
    "    plt.subplot(5,3,i+1)\n",
    "    sns.scatterplot(data=DischargeFrame, x=column, y='LengthOfStay')\n",
    "    plt.title(column)\n",
    "\n",
    "plt.xticks(rotation='vertical')\n",
    "plt.show()"
   ]
  },
  {
   "cell_type": "markdown",
   "metadata": {},
   "source": [
    "**Observations:**\n",
    "\n",
    "* There doesnt seems to be any kind of linear realtion between Target column and other numeric attributes. Lets try and look at correlation matric for further investigation.\n",
    "* CCSprocedurecode and APR severity of illness code are categorical variable but they are of data type int."
   ]
  },
  {
   "cell_type": "markdown",
   "metadata": {},
   "source": [
    "**Correlation Plot**\n",
    "\n",
    "Lets plot a correlation heat map to find out the realtion between each attribute with other"
   ]
  },
  {
   "cell_type": "code",
   "execution_count": 23,
   "metadata": {},
   "outputs": [
    {
     "data": {
      "image/png": "[encoded data removed]",
      "text/plain": [
       "<Figure size 792x648 with 2 Axes>"
      ]
     },
     "metadata": {
      "needs_background": "light"
     },
     "output_type": "display_data"
    }
   ],
   "source": [
    "import seaborn as sns\n",
    "\n",
    "f, ax = plt.subplots(figsize=(11, 9))\n",
    "corr = DischargeFrame.corr()\n",
    "ax = sns.heatmap(\n",
    "    corr, \n",
    "    vmin=-1, vmax=1, center=0,\n",
    "    annot=True,\n",
    "    cmap=sns.diverging_palette(20, 220, n=200),\n",
    "    square=True\n",
    ")\n",
    "ax.set_xticklabels(\n",
    "    ax.get_xticklabels(),\n",
    "    rotation=90,\n",
    "    horizontalalignment='right'\n",
    ");"
   ]
  },
  {
   "cell_type": "markdown",
   "metadata": {},
   "source": [
    "**Observation:**\n",
    "\n",
    "* What we want to observe is the relation between every attribute with the Target variable in this correlation heat map. We can see from the heatmap above that APRSeverityOfIllnessCode is more correlated with target variable than any other attribute in the dataframe.\n",
    "\n",
    "* AverageChargesInCounty has high correlation between AverageCostInCounty. Same goes for Average Charges in Facility and Average charges in County\n",
    "\n",
    "\n"
   ]
  },
  {
   "cell_type": "markdown",
   "metadata": {},
   "source": [
    "## Exploring Categorical variable."
   ]
  },
  {
   "cell_type": "code",
   "execution_count": 24,
   "metadata": {
    "scrolled": false
   },
   "outputs": [
    {
     "name": "stdout",
     "output_type": "stream",
     "text": [
      "Distribution of categorical variables\n"
     ]
    },
    {
     "data": {
      "image/png": "[encoded data removed]",
      "text/plain": [
       "<Figure size 1440x3600 with 6 Axes>"
      ]
     },
     "metadata": {
      "needs_background": "light"
     },
     "output_type": "display_data"
    }
   ],
   "source": [
    "plt.figure(figsize=(20,50))\n",
    "print(\"Distribution of categorical variables\")\n",
    "for i, col in enumerate(DischargeFrame.select_dtypes(object)):\n",
    "    plt.subplot(5,3,i+1)\n",
    "    sns.barplot(x = DischargeFrame[col].value_counts().index, y = DischargeFrame[col].value_counts().values)\n",
    "    plt.title(col)\n",
    "    plt.xticks(rotation='vertical')"
   ]
  },
  {
   "cell_type": "markdown",
   "metadata": {},
   "source": [
    "* More than 95% of the cases are of Newborn Type of admission\n",
    "* Medicaid is the most preferred form of payment.\n",
    "* And as Emergency Department Indicator reflects, most of the cases are not Emergency cases."
   ]
  },
  {
   "cell_type": "markdown",
   "metadata": {},
   "source": [
    "## Detection of Outliers"
   ]
  },
  {
   "cell_type": "code",
   "execution_count": 25,
   "metadata": {},
   "outputs": [
    {
     "data": {
      "image/png": "[encoded data removed]",
      "text/plain": [
       "<Figure size 1440x2160 with 8 Axes>"
      ]
     },
     "metadata": {
      "needs_background": "light"
     },
     "output_type": "display_data"
    }
   ],
   "source": [
    "plt.figure(figsize=(20,30))\n",
    "for i, column in enumerate(DischargeFrame.select_dtypes(\"int64\")):\n",
    "    plt.subplot(9,3,i+1)\n",
    "    sns.boxplot(x=column,data=DischargeFrame)\n",
    "    plt.title(column)\n",
    "\n",
    "plt.xticks(rotation='vertical')\n",
    "plt.show()"
   ]
  },
  {
   "cell_type": "markdown",
   "metadata": {},
   "source": [
    "* As evident from the above plots, Birth weight, Average cost in County, Average cost in facility have outliers with Birthweight has most outliers. These outliers can be treated either by removing those data or replacing it with a suitable value. However I chose not to replace or drop the data points as that would induce a certain degree of bias in the data. Moreover, these data points are not being deleted for a simple reason that a newborn baby might be overweight or underweight. Similarly, Average cost might go down in some instances where a newborn remains admitted just for a single day and might have to pay a lot less as compared to others depending on the severity of illness."
   ]
  },
  {
   "cell_type": "markdown",
   "metadata": {},
   "source": [
    "## Exploring Target Variable\n",
    "\n",
    "Lets check the value counts in the target variable"
   ]
  },
  {
   "cell_type": "code",
   "execution_count": 26,
   "metadata": {},
   "outputs": [
    {
     "data": {
      "text/plain": [
       "2     24991\n",
       "3     15998\n",
       "1      8894\n",
       "4      7494\n",
       "5      1341\n",
       "6       557\n",
       "7       346\n",
       "8       145\n",
       "9        97\n",
       "10       80\n",
       "Name: LengthOfStay, dtype: int64"
      ]
     },
     "execution_count": 26,
     "metadata": {},
     "output_type": "execute_result"
    }
   ],
   "source": [
    "DischargeFrame.LengthOfStay.value_counts()"
   ]
  },
  {
   "cell_type": "markdown",
   "metadata": {},
   "source": [
    "Now we need to replace (0-3) with class-0 representing that the patient is going to stay less than 4 days in the hospital and (4-10) with class-1 which represents that the patient will stay longer than 3 days in the hospital"
   ]
  },
  {
   "cell_type": "code",
   "execution_count": 27,
   "metadata": {},
   "outputs": [],
   "source": [
    "DischargeFrame['LengthOfStay'].replace([0,1,2,3],0, inplace=True)\n",
    "DischargeFrame['LengthOfStay'].replace([4,5,6,7,8,9,10],1, inplace=True)"
   ]
  },
  {
   "cell_type": "code",
   "execution_count": 28,
   "metadata": {},
   "outputs": [
    {
     "data": {
      "text/html": [
       "<div>\n",
       "<style scoped>\n",
       "    .dataframe tbody tr th:only-of-type {\n",
       "        vertical-align: middle;\n",
       "    }\n",
       "\n",
       "    .dataframe tbody tr th {\n",
       "        vertical-align: top;\n",
       "    }\n",
       "\n",
       "    .dataframe thead th {\n",
       "        text-align: right;\n",
       "    }\n",
       "</style>\n",
       "<table border=\"1\" class=\"dataframe\">\n",
       "  <thead>\n",
       "    <tr style=\"text-align: right;\">\n",
       "      <th></th>\n",
       "      <th>Gender</th>\n",
       "      <th>Race</th>\n",
       "      <th>TypeOfAdmission</th>\n",
       "      <th>CCSProcedureCode</th>\n",
       "      <th>APRSeverityOfIllnessCode</th>\n",
       "      <th>PaymentTypology</th>\n",
       "      <th>BirthWeight</th>\n",
       "      <th>EmergencyDepartmentIndicator</th>\n",
       "      <th>AverageCostInCounty</th>\n",
       "      <th>AverageChargesInCounty</th>\n",
       "      <th>AverageCostInFacility</th>\n",
       "      <th>AverageChargesInFacility</th>\n",
       "      <th>AverageIncomeInZipCode</th>\n",
       "      <th>LengthOfStay</th>\n",
       "    </tr>\n",
       "    <tr>\n",
       "      <th>ID</th>\n",
       "      <th></th>\n",
       "      <th></th>\n",
       "      <th></th>\n",
       "      <th></th>\n",
       "      <th></th>\n",
       "      <th></th>\n",
       "      <th></th>\n",
       "      <th></th>\n",
       "      <th></th>\n",
       "      <th></th>\n",
       "      <th></th>\n",
       "      <th></th>\n",
       "      <th></th>\n",
       "      <th></th>\n",
       "    </tr>\n",
       "  </thead>\n",
       "  <tbody>\n",
       "    <tr>\n",
       "      <th>1</th>\n",
       "      <td>F</td>\n",
       "      <td>Other Race</td>\n",
       "      <td>Newborn</td>\n",
       "      <td>228</td>\n",
       "      <td>1</td>\n",
       "      <td>Medicaid</td>\n",
       "      <td>3700</td>\n",
       "      <td>N</td>\n",
       "      <td>2611</td>\n",
       "      <td>9227</td>\n",
       "      <td>1751</td>\n",
       "      <td>8951</td>\n",
       "      <td>45</td>\n",
       "      <td>0</td>\n",
       "    </tr>\n",
       "    <tr>\n",
       "      <th>2</th>\n",
       "      <td>M</td>\n",
       "      <td>Black/African American</td>\n",
       "      <td>Newborn</td>\n",
       "      <td>228</td>\n",
       "      <td>1</td>\n",
       "      <td>Medicaid</td>\n",
       "      <td>2900</td>\n",
       "      <td>N</td>\n",
       "      <td>3242</td>\n",
       "      <td>8966</td>\n",
       "      <td>3338</td>\n",
       "      <td>6409</td>\n",
       "      <td>34</td>\n",
       "      <td>0</td>\n",
       "    </tr>\n",
       "    <tr>\n",
       "      <th>3</th>\n",
       "      <td>M</td>\n",
       "      <td>Other Race</td>\n",
       "      <td>Newborn</td>\n",
       "      <td>220</td>\n",
       "      <td>1</td>\n",
       "      <td>Private Health Insurance</td>\n",
       "      <td>3200</td>\n",
       "      <td>N</td>\n",
       "      <td>3155</td>\n",
       "      <td>11381</td>\n",
       "      <td>4980</td>\n",
       "      <td>9323</td>\n",
       "      <td>45</td>\n",
       "      <td>0</td>\n",
       "    </tr>\n",
       "    <tr>\n",
       "      <th>4</th>\n",
       "      <td>F</td>\n",
       "      <td>Other Race</td>\n",
       "      <td>Newborn</td>\n",
       "      <td>0</td>\n",
       "      <td>1</td>\n",
       "      <td>Private Health Insurance</td>\n",
       "      <td>3300</td>\n",
       "      <td>N</td>\n",
       "      <td>3155</td>\n",
       "      <td>11381</td>\n",
       "      <td>5826</td>\n",
       "      <td>15680</td>\n",
       "      <td>59</td>\n",
       "      <td>0</td>\n",
       "    </tr>\n",
       "    <tr>\n",
       "      <th>5</th>\n",
       "      <td>F</td>\n",
       "      <td>Other Race</td>\n",
       "      <td>Newborn</td>\n",
       "      <td>228</td>\n",
       "      <td>1</td>\n",
       "      <td>Medicaid</td>\n",
       "      <td>2600</td>\n",
       "      <td>N</td>\n",
       "      <td>2611</td>\n",
       "      <td>9227</td>\n",
       "      <td>6000</td>\n",
       "      <td>14344</td>\n",
       "      <td>59</td>\n",
       "      <td>0</td>\n",
       "    </tr>\n",
       "  </tbody>\n",
       "</table>\n",
       "</div>"
      ],
      "text/plain": [
       "   Gender                    Race TypeOfAdmission CCSProcedureCode  \\\n",
       "ID                                                                   \n",
       "1       F              Other Race         Newborn              228   \n",
       "2       M  Black/African American         Newborn              228   \n",
       "3       M              Other Race         Newborn              220   \n",
       "4       F              Other Race         Newborn                0   \n",
       "5       F              Other Race         Newborn              228   \n",
       "\n",
       "    APRSeverityOfIllnessCode           PaymentTypology  BirthWeight  \\\n",
       "ID                                                                    \n",
       "1                          1                  Medicaid         3700   \n",
       "2                          1                  Medicaid         2900   \n",
       "3                          1  Private Health Insurance         3200   \n",
       "4                          1  Private Health Insurance         3300   \n",
       "5                          1                  Medicaid         2600   \n",
       "\n",
       "   EmergencyDepartmentIndicator  AverageCostInCounty  AverageChargesInCounty  \\\n",
       "ID                                                                             \n",
       "1                             N                 2611                    9227   \n",
       "2                             N                 3242                    8966   \n",
       "3                             N                 3155                   11381   \n",
       "4                             N                 3155                   11381   \n",
       "5                             N                 2611                    9227   \n",
       "\n",
       "    AverageCostInFacility  AverageChargesInFacility  AverageIncomeInZipCode  \\\n",
       "ID                                                                            \n",
       "1                    1751                      8951                      45   \n",
       "2                    3338                      6409                      34   \n",
       "3                    4980                      9323                      45   \n",
       "4                    5826                     15680                      59   \n",
       "5                    6000                     14344                      59   \n",
       "\n",
       "    LengthOfStay  \n",
       "ID                \n",
       "1              0  \n",
       "2              0  \n",
       "3              0  \n",
       "4              0  \n",
       "5              0  "
      ]
     },
     "execution_count": 28,
     "metadata": {},
     "output_type": "execute_result"
    }
   ],
   "source": [
    "DischargeFrame.head()"
   ]
  },
  {
   "cell_type": "code",
   "execution_count": 29,
   "metadata": {},
   "outputs": [
    {
     "data": {
      "text/plain": [
       "0    49883\n",
       "1    10060\n",
       "Name: LengthOfStay, dtype: int64"
      ]
     },
     "execution_count": 29,
     "metadata": {},
     "output_type": "execute_result"
    }
   ],
   "source": [
    "DischargeFrame.LengthOfStay.value_counts()"
   ]
  },
  {
   "cell_type": "code",
   "execution_count": 30,
   "metadata": {},
   "outputs": [
    {
     "data": {
      "image/png": "[encoded data removed]",
      "text/plain": [
       "<Figure size 432x288 with 1 Axes>"
      ]
     },
     "metadata": {
      "needs_background": "light"
     },
     "output_type": "display_data"
    }
   ],
   "source": [
    "sns.countplot(x=\"LengthOfStay\", data=DischargeFrame)\n",
    "plt.xticks(rotation='vertical')\n",
    "plt.show()"
   ]
  },
  {
   "cell_type": "markdown",
   "metadata": {},
   "source": [
    "# One-Hot Encoding of Categorical features\n",
    "\n",
    "Now we need to convert all categorical variables into numeric ones. We do that using One-Hot Encoding. We use the scikitlearn package OneHotEncoder"
   ]
  },
  {
   "cell_type": "code",
   "execution_count": 31,
   "metadata": {},
   "outputs": [],
   "source": [
    "from sklearn.preprocessing import OneHotEncoder\n",
    "\n",
    "columns = DischargeFrame.select_dtypes(object).columns.to_list()\n",
    "\n",
    "for column in columns:\n",
    "    OHE = OneHotEncoder(handle_unknown='ignore')\n",
    "    OHE.fit(DischargeFrame[[column]])\n",
    "    onehot_ = OHE.transform(DischargeFrame[[column]]).toarray()\n",
    "    onehot_test = OHE.transform(Test_Data[[column]]).toarray() #One hot encoding of unseen data\n",
    "\n",
    "    for i in range(len(OHE.categories_[0])):\n",
    "        DischargeFrame[column + '_' + str(OHE.categories_[0][i])] = onehot_[:,i]\n",
    "        Test_Data[column + '_' + str(OHE.categories_[0][i])] = onehot_test[:,i] # Transformed Unseen data"
   ]
  },
  {
   "cell_type": "markdown",
   "metadata": {},
   "source": [
    "Now after One hot encoding we drop the original attributes that are of data type object."
   ]
  },
  {
   "cell_type": "code",
   "execution_count": 32,
   "metadata": {
    "scrolled": true
   },
   "outputs": [
    {
     "data": {
      "text/html": [
       "<div>\n",
       "<style scoped>\n",
       "    .dataframe tbody tr th:only-of-type {\n",
       "        vertical-align: middle;\n",
       "    }\n",
       "\n",
       "    .dataframe tbody tr th {\n",
       "        vertical-align: top;\n",
       "    }\n",
       "\n",
       "    .dataframe thead th {\n",
       "        text-align: right;\n",
       "    }\n",
       "</style>\n",
       "<table border=\"1\" class=\"dataframe\">\n",
       "  <thead>\n",
       "    <tr style=\"text-align: right;\">\n",
       "      <th></th>\n",
       "      <th>APRSeverityOfIllnessCode</th>\n",
       "      <th>BirthWeight</th>\n",
       "      <th>AverageCostInCounty</th>\n",
       "      <th>AverageChargesInCounty</th>\n",
       "      <th>AverageCostInFacility</th>\n",
       "      <th>AverageChargesInFacility</th>\n",
       "      <th>AverageIncomeInZipCode</th>\n",
       "      <th>LengthOfStay</th>\n",
       "      <th>Gender_F</th>\n",
       "      <th>Gender_M</th>\n",
       "      <th>...</th>\n",
       "      <th>PaymentTypology_Blue Cross/Blue Shield</th>\n",
       "      <th>PaymentTypology_Federal/State/Local/VA</th>\n",
       "      <th>PaymentTypology_Managed Care, Unspecified</th>\n",
       "      <th>PaymentTypology_Medicaid</th>\n",
       "      <th>PaymentTypology_Medicare</th>\n",
       "      <th>PaymentTypology_Miscellaneous/Other</th>\n",
       "      <th>PaymentTypology_Private Health Insurance</th>\n",
       "      <th>PaymentTypology_Self-Pay</th>\n",
       "      <th>EmergencyDepartmentIndicator_N</th>\n",
       "      <th>EmergencyDepartmentIndicator_Y</th>\n",
       "    </tr>\n",
       "    <tr>\n",
       "      <th>ID</th>\n",
       "      <th></th>\n",
       "      <th></th>\n",
       "      <th></th>\n",
       "      <th></th>\n",
       "      <th></th>\n",
       "      <th></th>\n",
       "      <th></th>\n",
       "      <th></th>\n",
       "      <th></th>\n",
       "      <th></th>\n",
       "      <th></th>\n",
       "      <th></th>\n",
       "      <th></th>\n",
       "      <th></th>\n",
       "      <th></th>\n",
       "      <th></th>\n",
       "      <th></th>\n",
       "      <th></th>\n",
       "      <th></th>\n",
       "      <th></th>\n",
       "      <th></th>\n",
       "    </tr>\n",
       "  </thead>\n",
       "  <tbody>\n",
       "    <tr>\n",
       "      <th>1</th>\n",
       "      <td>1</td>\n",
       "      <td>3700</td>\n",
       "      <td>2611</td>\n",
       "      <td>9227</td>\n",
       "      <td>1751</td>\n",
       "      <td>8951</td>\n",
       "      <td>45</td>\n",
       "      <td>0</td>\n",
       "      <td>1.0</td>\n",
       "      <td>0.0</td>\n",
       "      <td>...</td>\n",
       "      <td>0.0</td>\n",
       "      <td>0.0</td>\n",
       "      <td>0.0</td>\n",
       "      <td>1.0</td>\n",
       "      <td>0.0</td>\n",
       "      <td>0.0</td>\n",
       "      <td>0.0</td>\n",
       "      <td>0.0</td>\n",
       "      <td>1.0</td>\n",
       "      <td>0.0</td>\n",
       "    </tr>\n",
       "    <tr>\n",
       "      <th>2</th>\n",
       "      <td>1</td>\n",
       "      <td>2900</td>\n",
       "      <td>3242</td>\n",
       "      <td>8966</td>\n",
       "      <td>3338</td>\n",
       "      <td>6409</td>\n",
       "      <td>34</td>\n",
       "      <td>0</td>\n",
       "      <td>0.0</td>\n",
       "      <td>1.0</td>\n",
       "      <td>...</td>\n",
       "      <td>0.0</td>\n",
       "      <td>0.0</td>\n",
       "      <td>0.0</td>\n",
       "      <td>1.0</td>\n",
       "      <td>0.0</td>\n",
       "      <td>0.0</td>\n",
       "      <td>0.0</td>\n",
       "      <td>0.0</td>\n",
       "      <td>1.0</td>\n",
       "      <td>0.0</td>\n",
       "    </tr>\n",
       "    <tr>\n",
       "      <th>3</th>\n",
       "      <td>1</td>\n",
       "      <td>3200</td>\n",
       "      <td>3155</td>\n",
       "      <td>11381</td>\n",
       "      <td>4980</td>\n",
       "      <td>9323</td>\n",
       "      <td>45</td>\n",
       "      <td>0</td>\n",
       "      <td>0.0</td>\n",
       "      <td>1.0</td>\n",
       "      <td>...</td>\n",
       "      <td>0.0</td>\n",
       "      <td>0.0</td>\n",
       "      <td>0.0</td>\n",
       "      <td>0.0</td>\n",
       "      <td>0.0</td>\n",
       "      <td>0.0</td>\n",
       "      <td>1.0</td>\n",
       "      <td>0.0</td>\n",
       "      <td>1.0</td>\n",
       "      <td>0.0</td>\n",
       "    </tr>\n",
       "    <tr>\n",
       "      <th>4</th>\n",
       "      <td>1</td>\n",
       "      <td>3300</td>\n",
       "      <td>3155</td>\n",
       "      <td>11381</td>\n",
       "      <td>5826</td>\n",
       "      <td>15680</td>\n",
       "      <td>59</td>\n",
       "      <td>0</td>\n",
       "      <td>1.0</td>\n",
       "      <td>0.0</td>\n",
       "      <td>...</td>\n",
       "      <td>0.0</td>\n",
       "      <td>0.0</td>\n",
       "      <td>0.0</td>\n",
       "      <td>0.0</td>\n",
       "      <td>0.0</td>\n",
       "      <td>0.0</td>\n",
       "      <td>1.0</td>\n",
       "      <td>0.0</td>\n",
       "      <td>1.0</td>\n",
       "      <td>0.0</td>\n",
       "    </tr>\n",
       "    <tr>\n",
       "      <th>5</th>\n",
       "      <td>1</td>\n",
       "      <td>2600</td>\n",
       "      <td>2611</td>\n",
       "      <td>9227</td>\n",
       "      <td>6000</td>\n",
       "      <td>14344</td>\n",
       "      <td>59</td>\n",
       "      <td>0</td>\n",
       "      <td>1.0</td>\n",
       "      <td>0.0</td>\n",
       "      <td>...</td>\n",
       "      <td>0.0</td>\n",
       "      <td>0.0</td>\n",
       "      <td>0.0</td>\n",
       "      <td>1.0</td>\n",
       "      <td>0.0</td>\n",
       "      <td>0.0</td>\n",
       "      <td>0.0</td>\n",
       "      <td>0.0</td>\n",
       "      <td>1.0</td>\n",
       "      <td>0.0</td>\n",
       "    </tr>\n",
       "  </tbody>\n",
       "</table>\n",
       "<p>5 rows × 35 columns</p>\n",
       "</div>"
      ],
      "text/plain": [
       "    APRSeverityOfIllnessCode  BirthWeight  AverageCostInCounty  \\\n",
       "ID                                                               \n",
       "1                          1         3700                 2611   \n",
       "2                          1         2900                 3242   \n",
       "3                          1         3200                 3155   \n",
       "4                          1         3300                 3155   \n",
       "5                          1         2600                 2611   \n",
       "\n",
       "    AverageChargesInCounty  AverageCostInFacility  AverageChargesInFacility  \\\n",
       "ID                                                                            \n",
       "1                     9227                   1751                      8951   \n",
       "2                     8966                   3338                      6409   \n",
       "3                    11381                   4980                      9323   \n",
       "4                    11381                   5826                     15680   \n",
       "5                     9227                   6000                     14344   \n",
       "\n",
       "    AverageIncomeInZipCode  LengthOfStay  Gender_F  Gender_M  ...  \\\n",
       "ID                                                            ...   \n",
       "1                       45             0       1.0       0.0  ...   \n",
       "2                       34             0       0.0       1.0  ...   \n",
       "3                       45             0       0.0       1.0  ...   \n",
       "4                       59             0       1.0       0.0  ...   \n",
       "5                       59             0       1.0       0.0  ...   \n",
       "\n",
       "    PaymentTypology_Blue Cross/Blue Shield  \\\n",
       "ID                                           \n",
       "1                                      0.0   \n",
       "2                                      0.0   \n",
       "3                                      0.0   \n",
       "4                                      0.0   \n",
       "5                                      0.0   \n",
       "\n",
       "    PaymentTypology_Federal/State/Local/VA  \\\n",
       "ID                                           \n",
       "1                                      0.0   \n",
       "2                                      0.0   \n",
       "3                                      0.0   \n",
       "4                                      0.0   \n",
       "5                                      0.0   \n",
       "\n",
       "    PaymentTypology_Managed Care, Unspecified  PaymentTypology_Medicaid  \\\n",
       "ID                                                                        \n",
       "1                                         0.0                       1.0   \n",
       "2                                         0.0                       1.0   \n",
       "3                                         0.0                       0.0   \n",
       "4                                         0.0                       0.0   \n",
       "5                                         0.0                       1.0   \n",
       "\n",
       "    PaymentTypology_Medicare  PaymentTypology_Miscellaneous/Other  \\\n",
       "ID                                                                  \n",
       "1                        0.0                                  0.0   \n",
       "2                        0.0                                  0.0   \n",
       "3                        0.0                                  0.0   \n",
       "4                        0.0                                  0.0   \n",
       "5                        0.0                                  0.0   \n",
       "\n",
       "    PaymentTypology_Private Health Insurance  PaymentTypology_Self-Pay  \\\n",
       "ID                                                                       \n",
       "1                                        0.0                       0.0   \n",
       "2                                        0.0                       0.0   \n",
       "3                                        1.0                       0.0   \n",
       "4                                        1.0                       0.0   \n",
       "5                                        0.0                       0.0   \n",
       "\n",
       "    EmergencyDepartmentIndicator_N  EmergencyDepartmentIndicator_Y  \n",
       "ID                                                                  \n",
       "1                              1.0                             0.0  \n",
       "2                              1.0                             0.0  \n",
       "3                              1.0                             0.0  \n",
       "4                              1.0                             0.0  \n",
       "5                              1.0                             0.0  \n",
       "\n",
       "[5 rows x 35 columns]"
      ]
     },
     "execution_count": 32,
     "metadata": {},
     "output_type": "execute_result"
    }
   ],
   "source": [
    "# dropping the original columns after One hot encoding from both Seen and Unseen Data\n",
    "for col in DischargeFrame.select_dtypes(object): \n",
    "    DischargeFrame = DischargeFrame.drop([col], axis=1)\n",
    "    Test_Data = Test_Data.drop([col], axis=1)\n",
    "\n",
    "DischargeFrame.head()\n"
   ]
  },
  {
   "cell_type": "code",
   "execution_count": 33,
   "metadata": {},
   "outputs": [
    {
     "data": {
      "text/html": [
       "<div>\n",
       "<style scoped>\n",
       "    .dataframe tbody tr th:only-of-type {\n",
       "        vertical-align: middle;\n",
       "    }\n",
       "\n",
       "    .dataframe tbody tr th {\n",
       "        vertical-align: top;\n",
       "    }\n",
       "\n",
       "    .dataframe thead th {\n",
       "        text-align: right;\n",
       "    }\n",
       "</style>\n",
       "<table border=\"1\" class=\"dataframe\">\n",
       "  <thead>\n",
       "    <tr style=\"text-align: right;\">\n",
       "      <th></th>\n",
       "      <th>APRSeverityOfIllnessCode</th>\n",
       "      <th>BirthWeight</th>\n",
       "      <th>AverageCostInCounty</th>\n",
       "      <th>AverageChargesInCounty</th>\n",
       "      <th>AverageCostInFacility</th>\n",
       "      <th>AverageChargesInFacility</th>\n",
       "      <th>AverageIncomeInZipCode</th>\n",
       "      <th>Gender_F</th>\n",
       "      <th>Gender_M</th>\n",
       "      <th>Race_Black/African American</th>\n",
       "      <th>...</th>\n",
       "      <th>PaymentTypology_Blue Cross/Blue Shield</th>\n",
       "      <th>PaymentTypology_Federal/State/Local/VA</th>\n",
       "      <th>PaymentTypology_Managed Care, Unspecified</th>\n",
       "      <th>PaymentTypology_Medicaid</th>\n",
       "      <th>PaymentTypology_Medicare</th>\n",
       "      <th>PaymentTypology_Miscellaneous/Other</th>\n",
       "      <th>PaymentTypology_Private Health Insurance</th>\n",
       "      <th>PaymentTypology_Self-Pay</th>\n",
       "      <th>EmergencyDepartmentIndicator_N</th>\n",
       "      <th>EmergencyDepartmentIndicator_Y</th>\n",
       "    </tr>\n",
       "    <tr>\n",
       "      <th>ID</th>\n",
       "      <th></th>\n",
       "      <th></th>\n",
       "      <th></th>\n",
       "      <th></th>\n",
       "      <th></th>\n",
       "      <th></th>\n",
       "      <th></th>\n",
       "      <th></th>\n",
       "      <th></th>\n",
       "      <th></th>\n",
       "      <th></th>\n",
       "      <th></th>\n",
       "      <th></th>\n",
       "      <th></th>\n",
       "      <th></th>\n",
       "      <th></th>\n",
       "      <th></th>\n",
       "      <th></th>\n",
       "      <th></th>\n",
       "      <th></th>\n",
       "      <th></th>\n",
       "    </tr>\n",
       "  </thead>\n",
       "  <tbody>\n",
       "    <tr>\n",
       "      <th>1</th>\n",
       "      <td>3</td>\n",
       "      <td>4900</td>\n",
       "      <td>3242</td>\n",
       "      <td>8966</td>\n",
       "      <td>2448</td>\n",
       "      <td>13196</td>\n",
       "      <td>34</td>\n",
       "      <td>1.0</td>\n",
       "      <td>0.0</td>\n",
       "      <td>0.0</td>\n",
       "      <td>...</td>\n",
       "      <td>0.0</td>\n",
       "      <td>0.0</td>\n",
       "      <td>0.0</td>\n",
       "      <td>1.0</td>\n",
       "      <td>0.0</td>\n",
       "      <td>0.0</td>\n",
       "      <td>0.0</td>\n",
       "      <td>0.0</td>\n",
       "      <td>1.0</td>\n",
       "      <td>0.0</td>\n",
       "    </tr>\n",
       "    <tr>\n",
       "      <th>2</th>\n",
       "      <td>1</td>\n",
       "      <td>3100</td>\n",
       "      <td>2611</td>\n",
       "      <td>9227</td>\n",
       "      <td>1751</td>\n",
       "      <td>8951</td>\n",
       "      <td>45</td>\n",
       "      <td>1.0</td>\n",
       "      <td>0.0</td>\n",
       "      <td>0.0</td>\n",
       "      <td>...</td>\n",
       "      <td>0.0</td>\n",
       "      <td>0.0</td>\n",
       "      <td>0.0</td>\n",
       "      <td>1.0</td>\n",
       "      <td>0.0</td>\n",
       "      <td>0.0</td>\n",
       "      <td>0.0</td>\n",
       "      <td>0.0</td>\n",
       "      <td>1.0</td>\n",
       "      <td>0.0</td>\n",
       "    </tr>\n",
       "    <tr>\n",
       "      <th>3</th>\n",
       "      <td>1</td>\n",
       "      <td>3300</td>\n",
       "      <td>3155</td>\n",
       "      <td>11381</td>\n",
       "      <td>1052</td>\n",
       "      <td>11314</td>\n",
       "      <td>74</td>\n",
       "      <td>0.0</td>\n",
       "      <td>1.0</td>\n",
       "      <td>0.0</td>\n",
       "      <td>...</td>\n",
       "      <td>0.0</td>\n",
       "      <td>0.0</td>\n",
       "      <td>0.0</td>\n",
       "      <td>1.0</td>\n",
       "      <td>0.0</td>\n",
       "      <td>0.0</td>\n",
       "      <td>0.0</td>\n",
       "      <td>0.0</td>\n",
       "      <td>1.0</td>\n",
       "      <td>0.0</td>\n",
       "    </tr>\n",
       "    <tr>\n",
       "      <th>4</th>\n",
       "      <td>1</td>\n",
       "      <td>3300</td>\n",
       "      <td>2611</td>\n",
       "      <td>9227</td>\n",
       "      <td>3790</td>\n",
       "      <td>6250</td>\n",
       "      <td>45</td>\n",
       "      <td>0.0</td>\n",
       "      <td>1.0</td>\n",
       "      <td>0.0</td>\n",
       "      <td>...</td>\n",
       "      <td>0.0</td>\n",
       "      <td>0.0</td>\n",
       "      <td>0.0</td>\n",
       "      <td>1.0</td>\n",
       "      <td>0.0</td>\n",
       "      <td>0.0</td>\n",
       "      <td>0.0</td>\n",
       "      <td>0.0</td>\n",
       "      <td>1.0</td>\n",
       "      <td>0.0</td>\n",
       "    </tr>\n",
       "    <tr>\n",
       "      <th>5</th>\n",
       "      <td>2</td>\n",
       "      <td>3800</td>\n",
       "      <td>3155</td>\n",
       "      <td>11381</td>\n",
       "      <td>3032</td>\n",
       "      <td>10135</td>\n",
       "      <td>59</td>\n",
       "      <td>1.0</td>\n",
       "      <td>0.0</td>\n",
       "      <td>0.0</td>\n",
       "      <td>...</td>\n",
       "      <td>0.0</td>\n",
       "      <td>0.0</td>\n",
       "      <td>0.0</td>\n",
       "      <td>1.0</td>\n",
       "      <td>0.0</td>\n",
       "      <td>0.0</td>\n",
       "      <td>0.0</td>\n",
       "      <td>0.0</td>\n",
       "      <td>1.0</td>\n",
       "      <td>0.0</td>\n",
       "    </tr>\n",
       "  </tbody>\n",
       "</table>\n",
       "<p>5 rows × 34 columns</p>\n",
       "</div>"
      ],
      "text/plain": [
       "    APRSeverityOfIllnessCode  BirthWeight  AverageCostInCounty  \\\n",
       "ID                                                               \n",
       "1                          3         4900                 3242   \n",
       "2                          1         3100                 2611   \n",
       "3                          1         3300                 3155   \n",
       "4                          1         3300                 2611   \n",
       "5                          2         3800                 3155   \n",
       "\n",
       "    AverageChargesInCounty  AverageCostInFacility  AverageChargesInFacility  \\\n",
       "ID                                                                            \n",
       "1                     8966                   2448                     13196   \n",
       "2                     9227                   1751                      8951   \n",
       "3                    11381                   1052                     11314   \n",
       "4                     9227                   3790                      6250   \n",
       "5                    11381                   3032                     10135   \n",
       "\n",
       "    AverageIncomeInZipCode  Gender_F  Gender_M  Race_Black/African American  \\\n",
       "ID                                                                            \n",
       "1                       34       1.0       0.0                          0.0   \n",
       "2                       45       1.0       0.0                          0.0   \n",
       "3                       74       0.0       1.0                          0.0   \n",
       "4                       45       0.0       1.0                          0.0   \n",
       "5                       59       1.0       0.0                          0.0   \n",
       "\n",
       "    ...  PaymentTypology_Blue Cross/Blue Shield  \\\n",
       "ID  ...                                           \n",
       "1   ...                                     0.0   \n",
       "2   ...                                     0.0   \n",
       "3   ...                                     0.0   \n",
       "4   ...                                     0.0   \n",
       "5   ...                                     0.0   \n",
       "\n",
       "    PaymentTypology_Federal/State/Local/VA  \\\n",
       "ID                                           \n",
       "1                                      0.0   \n",
       "2                                      0.0   \n",
       "3                                      0.0   \n",
       "4                                      0.0   \n",
       "5                                      0.0   \n",
       "\n",
       "    PaymentTypology_Managed Care, Unspecified  PaymentTypology_Medicaid  \\\n",
       "ID                                                                        \n",
       "1                                         0.0                       1.0   \n",
       "2                                         0.0                       1.0   \n",
       "3                                         0.0                       1.0   \n",
       "4                                         0.0                       1.0   \n",
       "5                                         0.0                       1.0   \n",
       "\n",
       "    PaymentTypology_Medicare  PaymentTypology_Miscellaneous/Other  \\\n",
       "ID                                                                  \n",
       "1                        0.0                                  0.0   \n",
       "2                        0.0                                  0.0   \n",
       "3                        0.0                                  0.0   \n",
       "4                        0.0                                  0.0   \n",
       "5                        0.0                                  0.0   \n",
       "\n",
       "    PaymentTypology_Private Health Insurance  PaymentTypology_Self-Pay  \\\n",
       "ID                                                                       \n",
       "1                                        0.0                       0.0   \n",
       "2                                        0.0                       0.0   \n",
       "3                                        0.0                       0.0   \n",
       "4                                        0.0                       0.0   \n",
       "5                                        0.0                       0.0   \n",
       "\n",
       "    EmergencyDepartmentIndicator_N  EmergencyDepartmentIndicator_Y  \n",
       "ID                                                                  \n",
       "1                              1.0                             0.0  \n",
       "2                              1.0                             0.0  \n",
       "3                              1.0                             0.0  \n",
       "4                              1.0                             0.0  \n",
       "5                              1.0                             0.0  \n",
       "\n",
       "[5 rows x 34 columns]"
      ]
     },
     "execution_count": 33,
     "metadata": {},
     "output_type": "execute_result"
    }
   ],
   "source": [
    "Test_Data.head()"
   ]
  },
  {
   "cell_type": "code",
   "execution_count": 34,
   "metadata": {
    "scrolled": true
   },
   "outputs": [
    {
     "data": {
      "text/plain": [
       "(59943, 35)"
      ]
     },
     "execution_count": 34,
     "metadata": {},
     "output_type": "execute_result"
    }
   ],
   "source": [
    "DischargeFrame.shape\n"
   ]
  },
  {
   "cell_type": "code",
   "execution_count": 35,
   "metadata": {},
   "outputs": [
    {
     "data": {
      "text/plain": [
       "(69177, 34)"
      ]
     },
     "execution_count": 35,
     "metadata": {},
     "output_type": "execute_result"
    }
   ],
   "source": [
    "Test_Data.shape"
   ]
  },
  {
   "cell_type": "markdown",
   "metadata": {},
   "source": [
    "## Separating Target feature "
   ]
  },
  {
   "cell_type": "markdown",
   "metadata": {},
   "source": [
    "Now after completing the Exporatory Data Analysis we move ahead to separate the Target attribute from the original dataset for the purpose of Modelling and store it separately."
   ]
  },
  {
   "cell_type": "code",
   "execution_count": 36,
   "metadata": {},
   "outputs": [],
   "source": [
    "DischargeFrame_x = DischargeFrame.drop(['LengthOfStay'], axis=1)\n",
    "DischargeFrame_y = DischargeFrame['LengthOfStay']"
   ]
  },
  {
   "cell_type": "code",
   "execution_count": 37,
   "metadata": {},
   "outputs": [
    {
     "data": {
      "text/plain": [
       "(59943, 34)"
      ]
     },
     "execution_count": 37,
     "metadata": {},
     "output_type": "execute_result"
    }
   ],
   "source": [
    "DischargeFrame_x.shape"
   ]
  },
  {
   "cell_type": "code",
   "execution_count": 38,
   "metadata": {},
   "outputs": [
    {
     "data": {
      "text/plain": [
       "(69177, 34)"
      ]
     },
     "execution_count": 38,
     "metadata": {},
     "output_type": "execute_result"
    }
   ],
   "source": [
    "Test_Data.shape"
   ]
  },
  {
   "cell_type": "markdown",
   "metadata": {},
   "source": [
    "## Train-Test Splitting"
   ]
  },
  {
   "cell_type": "markdown",
   "metadata": {},
   "source": [
    "Now we split our data into Train, validation and Test set. We can use either Hold out validation method or cross validation method for this purpose but since the number of instances are sufficient(~60000) we can go ahead with holdout validation method.\n",
    "\n",
    "Following Splits were used:\n",
    "\n",
    "  **Train- Validation -Test split- 60-20-20**\n",
    "    "
   ]
  },
  {
   "cell_type": "code",
   "execution_count": 39,
   "metadata": {},
   "outputs": [],
   "source": [
    "from sklearn.model_selection import train_test_split\n",
    "\n",
    "with pd.option_context('mode.chained_assignment', None):\n",
    "    DischargeFrame_x_train, DischargeFrame_x_test, DischargeFrame_y_train, DischargeFrame_y_test = train_test_split(DischargeFrame_x,\n",
    "                                                                                                    DischargeFrame_y, \n",
    "                                                                                                    test_size=0.20, \n",
    "                                                                                                    shuffle=True)\n",
    "\n",
    "with pd.option_context('mode.chained_assignment', None):\n",
    "    hospital_X_train, hospital_X_valid, hospital_y_train, hospital_y_valid = train_test_split(DischargeFrame_x_train, \n",
    "                                                                            DischargeFrame_y_train, test_size=0.25, \n",
    "                                                                            shuffle=True, random_state=0)"
   ]
  },
  {
   "cell_type": "code",
   "execution_count": 40,
   "metadata": {},
   "outputs": [
    {
     "name": "stdout",
     "output_type": "stream",
     "text": [
      "Nunber of instances in the original dataset is 59943. After spliting Train has 47954 instances and test has 11989 instances.\n",
      "After spliting Train has 35965 instances and Validation set has 11989 instances.\n"
     ]
    }
   ],
   "source": [
    "print(\"Nunber of instances in the original dataset is {}. After spliting Train has {} instances and test has {} instances.\"\n",
    "      .format(DischargeFrame_x.shape[0], DischargeFrame_x_train.shape[0], DischargeFrame_x_test.shape[0]))\n",
    "\n",
    "print(\"After spliting Train has {} instances and Validation set has {} instances.\"\n",
    "      .format(hospital_X_train.shape[0], hospital_X_valid.shape[0]))"
   ]
  },
  {
   "cell_type": "markdown",
   "metadata": {},
   "source": [
    "## Feature Scaling\n",
    "\n",
    "Once all categorical features are encoded, all features in this dataset will be numerical. Now we need to scale these numerical features before fitting any models as the numerical features with higher values might affect the models computation speed. Moreover, the difference in magnitude of one attribute with other might affect the prediction accuarcy of the model.\n",
    "\n",
    "So we need to first apply power transformation on numeric attributes that are skewed and then apply scaling technique on the dataset."
   ]
  },
  {
   "cell_type": "code",
   "execution_count": 41,
   "metadata": {},
   "outputs": [],
   "source": [
    "from sklearn.preprocessing import MinMaxScaler\n",
    "from sklearn.preprocessing import PowerTransformer\n",
    "\n",
    "logNorm_attributes = ['AverageCostInCounty','AverageChargesInCounty','AverageCostInFacility','AverageChargesInFacility','AverageIncomeInZipCode']\n",
    "minmax_attributes = list(set(hospital_X_train.columns).difference(set(logNorm_attributes)))\n",
    "\n",
    "df_train_scaled = hospital_X_train.copy()\n",
    "df_valid_scaled = hospital_X_valid.copy()\n",
    "df_test_scaled = DischargeFrame_x_test.copy()\n",
    "# unseen Data\n",
    "df_test_data_scaled = Test_Data.copy() \n",
    "\n",
    "minmaxscaler = MinMaxScaler().fit(df_train_scaled.loc[:, minmax_attributes])\n",
    "\n",
    "df_train_scaled.loc[:, minmax_attributes] = minmaxscaler.transform(df_train_scaled.loc[:, minmax_attributes])\n",
    "df_valid_scaled.loc[:, minmax_attributes] = minmaxscaler.transform(df_valid_scaled.loc[:, minmax_attributes])\n",
    "df_test_scaled.loc[:, minmax_attributes] = minmaxscaler.transform(df_test_scaled.loc[:, minmax_attributes])\n",
    "# unseen Data\n",
    "df_test_data_scaled.loc[:, minmax_attributes] = minmaxscaler.transform(df_test_data_scaled.loc[:, minmax_attributes])\n",
    "\n",
    "\n",
    "powertransformer = PowerTransformer(method='box-cox', standardize=False).fit(df_train_scaled.loc[:, logNorm_attributes])\n",
    "df_train_scaled.loc[:, logNorm_attributes] = powertransformer.transform(df_train_scaled.loc[:, logNorm_attributes])\n",
    "df_valid_scaled.loc[:, logNorm_attributes] = powertransformer.transform(df_valid_scaled.loc[:, logNorm_attributes])\n",
    "df_test_scaled.loc[:, logNorm_attributes] = powertransformer.transform(df_test_scaled.loc[:, logNorm_attributes])\n",
    "# unseen Data\n",
    "df_test_data_scaled.loc[:, logNorm_attributes] = powertransformer.transform(df_test_data_scaled.loc[:, logNorm_attributes])# unseen Data\n",
    "\n",
    "minmaxscaler_pt = MinMaxScaler().fit(df_train_scaled.loc[:, logNorm_attributes])\n",
    "df_train_scaled.loc[:, logNorm_attributes] = minmaxscaler_pt.transform(df_train_scaled.loc[:, logNorm_attributes])\n",
    "df_valid_scaled.loc[:, logNorm_attributes] = minmaxscaler_pt.transform(df_valid_scaled.loc[:, logNorm_attributes])\n",
    "df_test_scaled.loc[:, logNorm_attributes] = minmaxscaler_pt.transform(df_test_scaled.loc[:, logNorm_attributes])\n",
    "# unseen Data\n",
    "df_test_data_scaled.loc[:, logNorm_attributes] = minmaxscaler_pt.transform(df_test_data_scaled.loc[:, logNorm_attributes])# unseen Data\n"
   ]
  },
  {
   "cell_type": "markdown",
   "metadata": {},
   "source": [
    "We completed the feature scaling, now we check if the train test and validation split are well in order and are well distributed amongst train and validation set by plotting train and validation data first and train and test data next."
   ]
  },
  {
   "cell_type": "code",
   "execution_count": 42,
   "metadata": {
    "scrolled": false
   },
   "outputs": [
    {
     "data": {
      "image/png": "[encoded data removed]",
      "text/plain": [
       "<Figure size 1440x1440 with 34 Axes>"
      ]
     },
     "metadata": {
      "needs_background": "light"
     },
     "output_type": "display_data"
    }
   ],
   "source": [
    "plt.figure(figsize=(20,20))\n",
    "for i, col in enumerate(df_train_scaled.columns):\n",
    "    plt.subplot(7,5,i+1)\n",
    "    plt.hist(df_train_scaled[col], alpha=0.3, color='b', density=True)\n",
    "    plt.hist(df_valid_scaled[col], alpha=0.3, color='r', density=True)\n",
    "    plt.title(col)\n",
    "    plt.xticks(rotation='vertical')"
   ]
  },
  {
   "cell_type": "markdown",
   "metadata": {},
   "source": [
    "**Observations:**\n",
    "\n",
    "The train and validation split has very good overlap hence indicating the distribution of train set attributes is approximately equal to the distribution of validation set attribute."
   ]
  },
  {
   "cell_type": "markdown",
   "metadata": {},
   "source": [
    "### Renaming scaled train, validation and test dataset for convinience"
   ]
  },
  {
   "cell_type": "code",
   "execution_count": 43,
   "metadata": {},
   "outputs": [],
   "source": [
    "H_train = df_train_scaled.copy()\n",
    "H_valid = df_valid_scaled.copy()\n",
    "H_test = df_test_scaled.copy()\n",
    "t_train = hospital_y_train.copy()\n",
    "t_valid = hospital_y_valid.copy()\n",
    "t_test = DischargeFrame_y_test.copy()"
   ]
  },
  {
   "cell_type": "markdown",
   "metadata": {},
   "source": [
    "# Modelling"
   ]
  },
  {
   "cell_type": "markdown",
   "metadata": {},
   "source": [
    "**Performance metric to be used:**\n",
    "    \n",
    "Since there is heavy class imbalance in the target colummn it is appropriate to use f1 score as the performance metric to give equal importance to both classes."
   ]
  },
  {
   "cell_type": "code",
   "execution_count": 44,
   "metadata": {},
   "outputs": [],
   "source": [
    "from sklearn.metrics import f1_score\n",
    "\n",
    "def get_f1_scores(clf, train_X, train_y, val_X, val_y):\n",
    "    train_pred = clf.predict(train_X)\n",
    "    val_pred = clf.predict(val_X)\n",
    "    \n",
    "    train_f1 = f1_score(train_y, train_pred, average='macro')\n",
    "    val_f1 = f1_score(val_y, val_pred, average='macro')\n",
    "    \n",
    "    return train_f1, val_f1"
   ]
  },
  {
   "cell_type": "markdown",
   "metadata": {},
   "source": [
    "## Model Training\n"
   ]
  },
  {
   "cell_type": "markdown",
   "metadata": {},
   "source": [
    "## Logistic Regression"
   ]
  },
  {
   "cell_type": "markdown",
   "metadata": {},
   "source": [
    "\n",
    "* We cant use logistic regression since target feature does not seems to have any kind of linearity with any other attributes which is also supported by the correlation matrix where the APRSeverityOfIllness code is a bit collinear.\n",
    "\n",
    "* Moreover we have a number of categorical attributes in the dataset, so it is better to explore other models for better performnace."
   ]
  },
  {
   "cell_type": "markdown",
   "metadata": {},
   "source": [
    "## Decision Tree "
   ]
  },
  {
   "cell_type": "markdown",
   "metadata": {},
   "source": [
    "Lets try with Decison tree model and start with a baseline model."
   ]
  },
  {
   "cell_type": "code",
   "execution_count": 45,
   "metadata": {},
   "outputs": [],
   "source": [
    "## Baseline model\n",
    "from sklearn.tree import DecisionTreeClassifier\n",
    "\n",
    "clf_DT = DecisionTreeClassifier()\n",
    "clf_DT = clf_DT.fit(H_train, t_train)"
   ]
  },
  {
   "cell_type": "code",
   "execution_count": 46,
   "metadata": {
    "scrolled": true
   },
   "outputs": [
    {
     "name": "stdout",
     "output_type": "stream",
     "text": [
      "Train F1-Score score: 0.918\n",
      "Validation F1-Score score: 0.595\n"
     ]
    }
   ],
   "source": [
    "train_f1, val_f1 = get_f1_scores(clf_DT, H_train, t_train, H_valid, t_valid)\n",
    "print(\"Train F1-Score score: {:.3f}\".format(train_f1))\n",
    "print(\"Validation F1-Score score: {:.3f}\".format(val_f1))"
   ]
  },
  {
   "cell_type": "markdown",
   "metadata": {},
   "source": [
    "It is clear from the above train and validation score that this is a case of overfitting. There is considerable difference between the f1-scores of train and validation datset.\n",
    "\n",
    "Now we further need to optimise our model and try and reduce the degree of overfitting. We use stratified Cross validation method and grid search method to find the best combination of parameters for our model."
   ]
  },
  {
   "cell_type": "code",
   "execution_count": 47,
   "metadata": {},
   "outputs": [
    {
     "name": "stdout",
     "output_type": "stream",
     "text": [
      "Fitting 5 folds for each of 140 candidates, totalling 700 fits\n"
     ]
    },
    {
     "name": "stderr",
     "output_type": "stream",
     "text": [
      "[Parallel(n_jobs=1)]: Using backend SequentialBackend with 1 concurrent workers.\n",
      "[Parallel(n_jobs=1)]: Done 700 out of 700 | elapsed:  1.2min finished\n"
     ]
    }
   ],
   "source": [
    "from sklearn.model_selection import GridSearchCV\n",
    "\n",
    "\n",
    "params_DT = {'max_depth': [2, 4, 6, 8,12,15,20],\n",
    "                  'min_samples_split': np.arange(2,50,5),\n",
    "                  'criterion': ['gini', 'entropy'],\n",
    "                    \"class_weight\":[\"balanced\"]}\n",
    "\n",
    "gs_DT = GridSearchCV(estimator=DecisionTreeClassifier(random_state=999), \n",
    "                      param_grid=params_DT, \n",
    "                      verbose=1,  # verbose: the higher, the more messages\n",
    "                      scoring='f1', \n",
    "                      return_train_score=True)\n",
    "\n",
    "gs_DT.fit(H_train, t_train);"
   ]
  },
  {
   "cell_type": "code",
   "execution_count": 48,
   "metadata": {},
   "outputs": [
    {
     "data": {
      "text/plain": [
       "{'class_weight': 'balanced',\n",
       " 'criterion': 'entropy',\n",
       " 'max_depth': 8,\n",
       " 'min_samples_split': 42}"
      ]
     },
     "execution_count": 48,
     "metadata": {},
     "output_type": "execute_result"
    }
   ],
   "source": [
    "gs_DT.best_params_"
   ]
  },
  {
   "cell_type": "code",
   "execution_count": 49,
   "metadata": {},
   "outputs": [
    {
     "data": {
      "text/plain": [
       "DecisionTreeClassifier(ccp_alpha=0.0, class_weight=None, criterion='gini',\n",
       "                       max_depth=None, max_features=None, max_leaf_nodes=None,\n",
       "                       min_impurity_decrease=0.0, min_impurity_split=None,\n",
       "                       min_samples_leaf=1, min_samples_split=2,\n",
       "                       min_weight_fraction_leaf=0.0, presort='deprecated',\n",
       "                       random_state=999, splitter='best')"
      ]
     },
     "execution_count": 49,
     "metadata": {},
     "output_type": "execute_result"
    }
   ],
   "source": [
    "gs_DT.estimator"
   ]
  },
  {
   "cell_type": "code",
   "execution_count": 50,
   "metadata": {},
   "outputs": [
    {
     "name": "stdout",
     "output_type": "stream",
     "text": [
      "Train F1-Score score: 0.624\n",
      "Validation F1-Score score: 0.601\n"
     ]
    }
   ],
   "source": [
    "train_f1, val_f1 = get_f1_scores(gs_DT.best_estimator_, H_train, t_train, H_valid, t_valid)\n",
    "print(\"Train F1-Score score: {:.3f}\".format(train_f1))\n",
    "print(\"Validation F1-Score score: {:.3f}\".format(val_f1))"
   ]
  },
  {
   "cell_type": "markdown",
   "metadata": {},
   "source": [
    "**Observation**\n",
    "\n",
    "So after Hyperparameter tuning, we see that the degree of overfitting is considerably reduced and now we can go ahead and apply our model to test it performance on test data."
   ]
  },
  {
   "cell_type": "code",
   "execution_count": 51,
   "metadata": {},
   "outputs": [
    {
     "name": "stdout",
     "output_type": "stream",
     "text": [
      "0.6076337320519025\n"
     ]
    }
   ],
   "source": [
    "test_pred = gs_DT.best_estimator_.predict(H_test)\n",
    "    \n",
    "print(f1_score(t_test, test_pred, average='macro'))"
   ]
  },
  {
   "cell_type": "markdown",
   "metadata": {},
   "source": [
    "Hence we can say that our tuned Decision tree model is able to genaralize well on the test dataset."
   ]
  },
  {
   "cell_type": "markdown",
   "metadata": {},
   "source": [
    "## Random Forest"
   ]
  },
  {
   "cell_type": "markdown",
   "metadata": {},
   "source": [
    "Lets try and build a base model for Random forest as well"
   ]
  },
  {
   "cell_type": "code",
   "execution_count": 52,
   "metadata": {},
   "outputs": [],
   "source": [
    "from sklearn.ensemble import RandomForestClassifier\n",
    "\n",
    "clf_RF = RandomForestClassifier()\n",
    "clf_RF = clf_RF.fit(H_train, t_train)"
   ]
  },
  {
   "cell_type": "code",
   "execution_count": 53,
   "metadata": {
    "scrolled": true
   },
   "outputs": [
    {
     "name": "stdout",
     "output_type": "stream",
     "text": [
      "Train F1-Score score: 0.921\n",
      "Validation F1-Score score: 0.600\n"
     ]
    }
   ],
   "source": [
    "train_f1, val_f1 = get_f1_scores(clf_RF, H_train, t_train, H_valid, t_valid)\n",
    "print(\"Train F1-Score score: {:.3f}\".format(train_f1))\n",
    "print(\"Validation F1-Score score: {:.3f}\".format(val_f1))"
   ]
  },
  {
   "cell_type": "markdown",
   "metadata": {},
   "source": [
    "Very similar to the Decision tree classifier the Random Forest model also exhibits high degree of overfitting. Lets try and optimise our model by doing hyperparametr tuning using grid search cv and stratified cross validation method."
   ]
  },
  {
   "cell_type": "code",
   "execution_count": 54,
   "metadata": {},
   "outputs": [
    {
     "name": "stdout",
     "output_type": "stream",
     "text": [
      "Fitting 5 folds for each of 18 candidates, totalling 90 fits\n"
     ]
    },
    {
     "name": "stderr",
     "output_type": "stream",
     "text": [
      "[Parallel(n_jobs=-2)]: Using backend LokyBackend with 7 concurrent workers.\n",
      "[Parallel(n_jobs=-2)]: Done  36 tasks      | elapsed:  1.5min\n",
      "[Parallel(n_jobs=-2)]: Done  90 out of  90 | elapsed:  3.5min finished\n"
     ]
    }
   ],
   "source": [
    "from sklearn.ensemble import RandomForestClassifier\n",
    "\n",
    "\n",
    "params_RF = {'max_depth': [8,10,12],\n",
    "                  'min_samples_split': [ 5, 6, 8],\n",
    "                  'criterion': ['gini', 'entropy'], \n",
    "                  'bootstrap': ['True'],\n",
    "                   \"class_weight\":[\"balanced\"],             \n",
    "                  'n_estimators':[400]}\n",
    "\n",
    "gs_RF = GridSearchCV(estimator=RandomForestClassifier(random_state=999), \n",
    "                          param_grid=params_RF, \n",
    "                          refit=True,\n",
    "                          n_jobs=-2,\n",
    "                          scoring='f1',\n",
    "                          verbose=1) \n",
    "\n",
    "gs_RF.fit(H_train, t_train);"
   ]
  },
  {
   "cell_type": "code",
   "execution_count": 55,
   "metadata": {},
   "outputs": [
    {
     "data": {
      "text/plain": [
       "{'bootstrap': 'True',\n",
       " 'class_weight': 'balanced',\n",
       " 'criterion': 'gini',\n",
       " 'max_depth': 12,\n",
       " 'min_samples_split': 8,\n",
       " 'n_estimators': 400}"
      ]
     },
     "execution_count": 55,
     "metadata": {},
     "output_type": "execute_result"
    }
   ],
   "source": [
    "gs_RF.best_params_"
   ]
  },
  {
   "cell_type": "code",
   "execution_count": 56,
   "metadata": {},
   "outputs": [
    {
     "data": {
      "text/plain": [
       "RandomForestClassifier(bootstrap='True', ccp_alpha=0.0, class_weight='balanced',\n",
       "                       criterion='gini', max_depth=12, max_features='auto',\n",
       "                       max_leaf_nodes=None, max_samples=None,\n",
       "                       min_impurity_decrease=0.0, min_impurity_split=None,\n",
       "                       min_samples_leaf=1, min_samples_split=8,\n",
       "                       min_weight_fraction_leaf=0.0, n_estimators=400,\n",
       "                       n_jobs=None, oob_score=False, random_state=999,\n",
       "                       verbose=0, warm_start=False)"
      ]
     },
     "execution_count": 56,
     "metadata": {},
     "output_type": "execute_result"
    }
   ],
   "source": [
    "gs_RF.best_estimator_"
   ]
  },
  {
   "cell_type": "code",
   "execution_count": 57,
   "metadata": {},
   "outputs": [
    {
     "name": "stdout",
     "output_type": "stream",
     "text": [
      "Train F1-Score score: 0.679\n",
      "Validation F1-Score score: 0.640\n"
     ]
    }
   ],
   "source": [
    "train_f2, val_f2 = get_f1_scores(gs_RF.best_estimator_, H_train, t_train, H_valid, t_valid)\n",
    "print(\"Train F1-Score score: {:.3f}\".format(train_f2))\n",
    "print(\"Validation F1-Score score: {:.3f}\".format(val_f2))"
   ]
  },
  {
   "cell_type": "code",
   "execution_count": 58,
   "metadata": {},
   "outputs": [
    {
     "name": "stdout",
     "output_type": "stream",
     "text": [
      "0.6378540887914548\n"
     ]
    }
   ],
   "source": [
    "test_pred = gs_RF.best_estimator_.predict(H_test)\n",
    "    \n",
    "print(f1_score(t_test, test_pred, average='macro'))"
   ]
  },
  {
   "cell_type": "markdown",
   "metadata": {},
   "source": [
    "## Model Selection:"
   ]
  },
  {
   "cell_type": "markdown",
   "metadata": {},
   "source": [
    "Comparison of Decision Tree and Random forest classifier\n",
    "\n",
    "* Hyperparameter Tuned Decision Tree classifier\n",
    "        The best parameteers with which our model performed the best:\n",
    "        class_weight': 'balanced','criterion': 'gini','max_depth': 8, 'min_samples_split': 7\n",
    "        **Train F1-Score score: 0.624**\n",
    "        **Validation F1-Score score: 0.601**\n",
    "        **Test F1 score of 0.607**\n",
    "    \n",
    "* Hyperparameter Tuned Random Forest classifier\n",
    "        The best parameteers with which our model performed the best:\n",
    "        RandomForestClassifier(bootstrap='True', ccp_alpha=0.0, class_weight='balanced',\n",
    "                       criterion='gini', max_depth=12, max_features='auto',\n",
    "                       max_leaf_nodes=None, max_samples=None,\n",
    "                       min_impurity_decrease=0.0, min_impurity_split=None,\n",
    "                       min_samples_leaf=1, min_samples_split=6,\n",
    "                       min_weight_fraction_leaf=0.0, n_estimators=400,\n",
    "                       n_jobs=None, oob_score=False, random_state=999,\n",
    "                       verbose=0, warm_start=False)\n",
    "  Train F1-Score score: 0.690\n",
    "  Validation F1-Score score: 0.645\n",
    "    Test F1 score of 0.642\n",
    "    \n",
    " \n",
    " \n",
    "**Both our models performed well in terms of F1 score and generalizing the dataset. However the degree of overfitting seems to be less in case of Decison tree classifier. So in my case based on the degree of overfitting I would say Decision tree classifier performed the best.**\n",
    "\n",
    "**Improvement :**\n",
    "\n",
    "Due to heavy computation power requirements, we could not try more varieties of inputs in each model.\n",
    "We could also try other models as well to better our performance."
   ]
  },
  {
   "cell_type": "markdown",
   "metadata": {},
   "source": [
    "## Performance on Unseen Data"
   ]
  },
  {
   "cell_type": "markdown",
   "metadata": {},
   "source": [
    "We have done our preprocessing of the Unseen data along with the Data provided to us for modelling. Now we can straightaway move to predict the values on the unseen data."
   ]
  },
  {
   "cell_type": "code",
   "execution_count": 59,
   "metadata": {},
   "outputs": [
    {
     "data": {
      "text/html": [
       "<div>\n",
       "<style scoped>\n",
       "    .dataframe tbody tr th:only-of-type {\n",
       "        vertical-align: middle;\n",
       "    }\n",
       "\n",
       "    .dataframe tbody tr th {\n",
       "        vertical-align: top;\n",
       "    }\n",
       "\n",
       "    .dataframe thead th {\n",
       "        text-align: right;\n",
       "    }\n",
       "</style>\n",
       "<table border=\"1\" class=\"dataframe\">\n",
       "  <thead>\n",
       "    <tr style=\"text-align: right;\">\n",
       "      <th></th>\n",
       "      <th>APRSeverityOfIllnessCode</th>\n",
       "      <th>BirthWeight</th>\n",
       "      <th>AverageCostInCounty</th>\n",
       "      <th>AverageChargesInCounty</th>\n",
       "      <th>AverageCostInFacility</th>\n",
       "      <th>AverageChargesInFacility</th>\n",
       "      <th>AverageIncomeInZipCode</th>\n",
       "      <th>Gender_F</th>\n",
       "      <th>Gender_M</th>\n",
       "      <th>Race_Black/African American</th>\n",
       "      <th>...</th>\n",
       "      <th>PaymentTypology_Blue Cross/Blue Shield</th>\n",
       "      <th>PaymentTypology_Federal/State/Local/VA</th>\n",
       "      <th>PaymentTypology_Managed Care, Unspecified</th>\n",
       "      <th>PaymentTypology_Medicaid</th>\n",
       "      <th>PaymentTypology_Medicare</th>\n",
       "      <th>PaymentTypology_Miscellaneous/Other</th>\n",
       "      <th>PaymentTypology_Private Health Insurance</th>\n",
       "      <th>PaymentTypology_Self-Pay</th>\n",
       "      <th>EmergencyDepartmentIndicator_N</th>\n",
       "      <th>EmergencyDepartmentIndicator_Y</th>\n",
       "    </tr>\n",
       "    <tr>\n",
       "      <th>ID</th>\n",
       "      <th></th>\n",
       "      <th></th>\n",
       "      <th></th>\n",
       "      <th></th>\n",
       "      <th></th>\n",
       "      <th></th>\n",
       "      <th></th>\n",
       "      <th></th>\n",
       "      <th></th>\n",
       "      <th></th>\n",
       "      <th></th>\n",
       "      <th></th>\n",
       "      <th></th>\n",
       "      <th></th>\n",
       "      <th></th>\n",
       "      <th></th>\n",
       "      <th></th>\n",
       "      <th></th>\n",
       "      <th></th>\n",
       "      <th></th>\n",
       "      <th></th>\n",
       "    </tr>\n",
       "  </thead>\n",
       "  <tbody>\n",
       "    <tr>\n",
       "      <th>1</th>\n",
       "      <td>0.666667</td>\n",
       "      <td>0.48</td>\n",
       "      <td>1.000000</td>\n",
       "      <td>0.686877</td>\n",
       "      <td>0.670133</td>\n",
       "      <td>0.874157</td>\n",
       "      <td>0.190163</td>\n",
       "      <td>1.0</td>\n",
       "      <td>0.0</td>\n",
       "      <td>0.0</td>\n",
       "      <td>...</td>\n",
       "      <td>0.0</td>\n",
       "      <td>0.0</td>\n",
       "      <td>0.0</td>\n",
       "      <td>1.0</td>\n",
       "      <td>0.0</td>\n",
       "      <td>0.0</td>\n",
       "      <td>0.0</td>\n",
       "      <td>0.0</td>\n",
       "      <td>1.0</td>\n",
       "      <td>0.0</td>\n",
       "    </tr>\n",
       "    <tr>\n",
       "      <th>2</th>\n",
       "      <td>0.000000</td>\n",
       "      <td>0.12</td>\n",
       "      <td>0.684410</td>\n",
       "      <td>0.718868</td>\n",
       "      <td>0.542044</td>\n",
       "      <td>0.635611</td>\n",
       "      <td>0.429693</td>\n",
       "      <td>1.0</td>\n",
       "      <td>0.0</td>\n",
       "      <td>0.0</td>\n",
       "      <td>...</td>\n",
       "      <td>0.0</td>\n",
       "      <td>0.0</td>\n",
       "      <td>0.0</td>\n",
       "      <td>1.0</td>\n",
       "      <td>0.0</td>\n",
       "      <td>0.0</td>\n",
       "      <td>0.0</td>\n",
       "      <td>0.0</td>\n",
       "      <td>1.0</td>\n",
       "      <td>0.0</td>\n",
       "    </tr>\n",
       "    <tr>\n",
       "      <th>3</th>\n",
       "      <td>0.000000</td>\n",
       "      <td>0.16</td>\n",
       "      <td>0.954269</td>\n",
       "      <td>1.000000</td>\n",
       "      <td>0.341930</td>\n",
       "      <td>0.772683</td>\n",
       "      <td>0.770067</td>\n",
       "      <td>0.0</td>\n",
       "      <td>1.0</td>\n",
       "      <td>0.0</td>\n",
       "      <td>...</td>\n",
       "      <td>0.0</td>\n",
       "      <td>0.0</td>\n",
       "      <td>0.0</td>\n",
       "      <td>1.0</td>\n",
       "      <td>0.0</td>\n",
       "      <td>0.0</td>\n",
       "      <td>0.0</td>\n",
       "      <td>0.0</td>\n",
       "      <td>1.0</td>\n",
       "      <td>0.0</td>\n",
       "    </tr>\n",
       "    <tr>\n",
       "      <th>4</th>\n",
       "      <td>0.000000</td>\n",
       "      <td>0.16</td>\n",
       "      <td>0.684410</td>\n",
       "      <td>0.718868</td>\n",
       "      <td>0.833130</td>\n",
       "      <td>0.460523</td>\n",
       "      <td>0.429693</td>\n",
       "      <td>0.0</td>\n",
       "      <td>1.0</td>\n",
       "      <td>0.0</td>\n",
       "      <td>...</td>\n",
       "      <td>0.0</td>\n",
       "      <td>0.0</td>\n",
       "      <td>0.0</td>\n",
       "      <td>1.0</td>\n",
       "      <td>0.0</td>\n",
       "      <td>0.0</td>\n",
       "      <td>0.0</td>\n",
       "      <td>0.0</td>\n",
       "      <td>1.0</td>\n",
       "      <td>0.0</td>\n",
       "    </tr>\n",
       "    <tr>\n",
       "      <th>5</th>\n",
       "      <td>0.333333</td>\n",
       "      <td>0.26</td>\n",
       "      <td>0.954269</td>\n",
       "      <td>1.000000</td>\n",
       "      <td>0.750489</td>\n",
       "      <td>0.705818</td>\n",
       "      <td>0.627103</td>\n",
       "      <td>1.0</td>\n",
       "      <td>0.0</td>\n",
       "      <td>0.0</td>\n",
       "      <td>...</td>\n",
       "      <td>0.0</td>\n",
       "      <td>0.0</td>\n",
       "      <td>0.0</td>\n",
       "      <td>1.0</td>\n",
       "      <td>0.0</td>\n",
       "      <td>0.0</td>\n",
       "      <td>0.0</td>\n",
       "      <td>0.0</td>\n",
       "      <td>1.0</td>\n",
       "      <td>0.0</td>\n",
       "    </tr>\n",
       "  </tbody>\n",
       "</table>\n",
       "<p>5 rows × 34 columns</p>\n",
       "</div>"
      ],
      "text/plain": [
       "    APRSeverityOfIllnessCode  BirthWeight  AverageCostInCounty  \\\n",
       "ID                                                               \n",
       "1                   0.666667         0.48             1.000000   \n",
       "2                   0.000000         0.12             0.684410   \n",
       "3                   0.000000         0.16             0.954269   \n",
       "4                   0.000000         0.16             0.684410   \n",
       "5                   0.333333         0.26             0.954269   \n",
       "\n",
       "    AverageChargesInCounty  AverageCostInFacility  AverageChargesInFacility  \\\n",
       "ID                                                                            \n",
       "1                 0.686877               0.670133                  0.874157   \n",
       "2                 0.718868               0.542044                  0.635611   \n",
       "3                 1.000000               0.341930                  0.772683   \n",
       "4                 0.718868               0.833130                  0.460523   \n",
       "5                 1.000000               0.750489                  0.705818   \n",
       "\n",
       "    AverageIncomeInZipCode  Gender_F  Gender_M  Race_Black/African American  \\\n",
       "ID                                                                            \n",
       "1                 0.190163       1.0       0.0                          0.0   \n",
       "2                 0.429693       1.0       0.0                          0.0   \n",
       "3                 0.770067       0.0       1.0                          0.0   \n",
       "4                 0.429693       0.0       1.0                          0.0   \n",
       "5                 0.627103       1.0       0.0                          0.0   \n",
       "\n",
       "    ...  PaymentTypology_Blue Cross/Blue Shield  \\\n",
       "ID  ...                                           \n",
       "1   ...                                     0.0   \n",
       "2   ...                                     0.0   \n",
       "3   ...                                     0.0   \n",
       "4   ...                                     0.0   \n",
       "5   ...                                     0.0   \n",
       "\n",
       "    PaymentTypology_Federal/State/Local/VA  \\\n",
       "ID                                           \n",
       "1                                      0.0   \n",
       "2                                      0.0   \n",
       "3                                      0.0   \n",
       "4                                      0.0   \n",
       "5                                      0.0   \n",
       "\n",
       "    PaymentTypology_Managed Care, Unspecified  PaymentTypology_Medicaid  \\\n",
       "ID                                                                        \n",
       "1                                         0.0                       1.0   \n",
       "2                                         0.0                       1.0   \n",
       "3                                         0.0                       1.0   \n",
       "4                                         0.0                       1.0   \n",
       "5                                         0.0                       1.0   \n",
       "\n",
       "    PaymentTypology_Medicare  PaymentTypology_Miscellaneous/Other  \\\n",
       "ID                                                                  \n",
       "1                        0.0                                  0.0   \n",
       "2                        0.0                                  0.0   \n",
       "3                        0.0                                  0.0   \n",
       "4                        0.0                                  0.0   \n",
       "5                        0.0                                  0.0   \n",
       "\n",
       "    PaymentTypology_Private Health Insurance  PaymentTypology_Self-Pay  \\\n",
       "ID                                                                       \n",
       "1                                        0.0                       0.0   \n",
       "2                                        0.0                       0.0   \n",
       "3                                        0.0                       0.0   \n",
       "4                                        0.0                       0.0   \n",
       "5                                        0.0                       0.0   \n",
       "\n",
       "    EmergencyDepartmentIndicator_N  EmergencyDepartmentIndicator_Y  \n",
       "ID                                                                  \n",
       "1                              1.0                             0.0  \n",
       "2                              1.0                             0.0  \n",
       "3                              1.0                             0.0  \n",
       "4                              1.0                             0.0  \n",
       "5                              1.0                             0.0  \n",
       "\n",
       "[5 rows x 34 columns]"
      ]
     },
     "execution_count": 59,
     "metadata": {},
     "output_type": "execute_result"
    }
   ],
   "source": [
    "df_test_data_scaled.head()"
   ]
  },
  {
   "cell_type": "code",
   "execution_count": 60,
   "metadata": {},
   "outputs": [],
   "source": [
    "predict = gs_DT.best_estimator_.predict(df_test_data_scaled)"
   ]
  },
  {
   "cell_type": "code",
   "execution_count": 61,
   "metadata": {},
   "outputs": [],
   "source": [
    "predict_df = pd.DataFrame({\n",
    "    \"ID\":df_test_data_scaled.index,\n",
    "    \"LengthOfStay\":predict\n",
    "})"
   ]
  },
  {
   "cell_type": "code",
   "execution_count": 62,
   "metadata": {},
   "outputs": [
    {
     "data": {
      "text/html": [
       "<div>\n",
       "<style scoped>\n",
       "    .dataframe tbody tr th:only-of-type {\n",
       "        vertical-align: middle;\n",
       "    }\n",
       "\n",
       "    .dataframe tbody tr th {\n",
       "        vertical-align: top;\n",
       "    }\n",
       "\n",
       "    .dataframe thead th {\n",
       "        text-align: right;\n",
       "    }\n",
       "</style>\n",
       "<table border=\"1\" class=\"dataframe\">\n",
       "  <thead>\n",
       "    <tr style=\"text-align: right;\">\n",
       "      <th></th>\n",
       "      <th>ID</th>\n",
       "      <th>LengthOfStay</th>\n",
       "    </tr>\n",
       "  </thead>\n",
       "  <tbody>\n",
       "    <tr>\n",
       "      <th>0</th>\n",
       "      <td>1</td>\n",
       "      <td>1</td>\n",
       "    </tr>\n",
       "    <tr>\n",
       "      <th>1</th>\n",
       "      <td>2</td>\n",
       "      <td>0</td>\n",
       "    </tr>\n",
       "    <tr>\n",
       "      <th>2</th>\n",
       "      <td>3</td>\n",
       "      <td>1</td>\n",
       "    </tr>\n",
       "    <tr>\n",
       "      <th>3</th>\n",
       "      <td>4</td>\n",
       "      <td>0</td>\n",
       "    </tr>\n",
       "    <tr>\n",
       "      <th>4</th>\n",
       "      <td>5</td>\n",
       "      <td>1</td>\n",
       "    </tr>\n",
       "  </tbody>\n",
       "</table>\n",
       "</div>"
      ],
      "text/plain": [
       "   ID  LengthOfStay\n",
       "0   1             1\n",
       "1   2             0\n",
       "2   3             1\n",
       "3   4             0\n",
       "4   5             1"
      ]
     },
     "execution_count": 62,
     "metadata": {},
     "output_type": "execute_result"
    }
   ],
   "source": [
    "predict_df.head()"
   ]
  },
  {
   "cell_type": "code",
   "execution_count": 63,
   "metadata": {},
   "outputs": [
    {
     "data": {
      "text/plain": [
       "0    54370\n",
       "1    14807\n",
       "Name: LengthOfStay, dtype: int64"
      ]
     },
     "execution_count": 63,
     "metadata": {},
     "output_type": "execute_result"
    }
   ],
   "source": [
    "predict_df.LengthOfStay.value_counts()"
   ]
  },
  {
   "cell_type": "code",
   "execution_count": 64,
   "metadata": {},
   "outputs": [],
   "source": [
    "predict_df.to_csv(\"s3798988_predictions.csv\", index=False)"
   ]
  }
 ],
 "metadata": {
  "kernelspec": {
   "display_name": "Python 3",
   "language": "python",
   "name": "python3"
  },
  "language_info": {
   "codemirror_mode": {
    "name": "ipython",
    "version": 3
   },
   "file_extension": ".py",
   "mimetype": "text/x-python",
   "name": "python",
   "nbconvert_exporter": "python",
   "pygments_lexer": "ipython3",
   "version": "3.7.6"
  }
 },
 "nbformat": 4,
 "nbformat_minor": 4
}
